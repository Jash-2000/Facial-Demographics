{
  "nbformat": 4,
  "nbformat_minor": 0,
  "metadata": {
    "colab": {
      "name": "MobileNetv2_ML_Gender.ipynb",
      "provenance": [],
      "collapsed_sections": []
    },
    "kernelspec": {
      "name": "python3",
      "display_name": "Python 3"
    },
    "accelerator": "GPU"
  },
  "cells": [
    {
      "cell_type": "code",
      "metadata": {
        "id": "EcRD_xVhR54r"
      },
      "source": [
        "import numpy as np\n",
        "import matplotlib.pyplot as plt\n",
        "import pandas as pd\n",
        "import os\n",
        "import pickle\n",
        "from sklearn.model_selection import GridSearchCV\n",
        "from sklearn.metrics import accuracy_score, roc_auc_score\n",
        "import time\n",
        "%matplotlib inline"
      ],
      "execution_count": null,
      "outputs": []
    },
    {
      "cell_type": "code",
      "metadata": {
        "id": "zldDlxBYRfyJ",
        "colab": {
          "base_uri": "https://localhost:8080/",
          "height": 204
        },
        "outputId": "04926661-3043-4b61-85c3-00a41ec01b1d"
      },
      "source": [
        "#Loading Labels\n",
        "traindf = pd.read_excel('/content/drive/My Drive/Facial Demographics/traindf.xlsx')\n",
        "valdf = pd.read_excel('/content/drive/My Drive/Facial Demographics/valdf.xlsx')\n",
        "testdf = pd.read_excel('/content/drive/Facial Demographics/testdf.xlsx')\n",
        "traindf.head()"
      ],
      "execution_count": null,
      "outputs": [
        {
          "output_type": "execute_result",
          "data": {
            "text/html": [
              "<div>\n",
              "<style scoped>\n",
              "    .dataframe tbody tr th:only-of-type {\n",
              "        vertical-align: middle;\n",
              "    }\n",
              "\n",
              "    .dataframe tbody tr th {\n",
              "        vertical-align: top;\n",
              "    }\n",
              "\n",
              "    .dataframe thead th {\n",
              "        text-align: right;\n",
              "    }\n",
              "</style>\n",
              "<table border=\"1\" class=\"dataframe\">\n",
              "  <thead>\n",
              "    <tr style=\"text-align: right;\">\n",
              "      <th></th>\n",
              "      <th>Unnamed: 0</th>\n",
              "      <th>age</th>\n",
              "      <th>gender</th>\n",
              "      <th>race</th>\n",
              "      <th>file</th>\n",
              "    </tr>\n",
              "  </thead>\n",
              "  <tbody>\n",
              "    <tr>\n",
              "      <th>0</th>\n",
              "      <td>21938</td>\n",
              "      <td>50</td>\n",
              "      <td>0</td>\n",
              "      <td>3</td>\n",
              "      <td>50_0_3_20170119204521040.jpg.chip.jpg</td>\n",
              "    </tr>\n",
              "    <tr>\n",
              "      <th>1</th>\n",
              "      <td>10250</td>\n",
              "      <td>49</td>\n",
              "      <td>0</td>\n",
              "      <td>3</td>\n",
              "      <td>49_0_3_20170104214426925.jpg.chip.jpg</td>\n",
              "    </tr>\n",
              "    <tr>\n",
              "      <th>2</th>\n",
              "      <td>17693</td>\n",
              "      <td>24</td>\n",
              "      <td>0</td>\n",
              "      <td>2</td>\n",
              "      <td>24_0_2_20170116172525947.jpg.chip.jpg</td>\n",
              "    </tr>\n",
              "    <tr>\n",
              "      <th>3</th>\n",
              "      <td>649</td>\n",
              "      <td>55</td>\n",
              "      <td>0</td>\n",
              "      <td>3</td>\n",
              "      <td>55_0_3_20170119171117830.jpg.chip.jpg</td>\n",
              "    </tr>\n",
              "    <tr>\n",
              "      <th>4</th>\n",
              "      <td>7397</td>\n",
              "      <td>80</td>\n",
              "      <td>1</td>\n",
              "      <td>0</td>\n",
              "      <td>80_1_0_20170110131358567.jpg.chip.jpg</td>\n",
              "    </tr>\n",
              "  </tbody>\n",
              "</table>\n",
              "</div>"
            ],
            "text/plain": [
              "   Unnamed: 0  age  gender  race                                   file\n",
              "0       21938   50       0     3  50_0_3_20170119204521040.jpg.chip.jpg\n",
              "1       10250   49       0     3  49_0_3_20170104214426925.jpg.chip.jpg\n",
              "2       17693   24       0     2  24_0_2_20170116172525947.jpg.chip.jpg\n",
              "3         649   55       0     3  55_0_3_20170119171117830.jpg.chip.jpg\n",
              "4        7397   80       1     0  80_1_0_20170110131358567.jpg.chip.jpg"
            ]
          },
          "metadata": {
            "tags": []
          },
          "execution_count": 20
        }
      ]
    },
    {
      "cell_type": "code",
      "metadata": {
        "id": "FUibcw8_zoHv"
      },
      "source": [
        "# Loading the Mobilenet trained features\n",
        "X_train = np.load('/content/drive/My Drive/Facial Demographics/X_train.npy')\n",
        "X_val = np.load('/content/drive/My Drive/Facial Demographics/X_val.npy')\n",
        "X_test = np.load('/content/drive/My Drive/Facial Demographics/X_test.npy')"
      ],
      "execution_count": null,
      "outputs": []
    },
    {
      "cell_type": "code",
      "metadata": {
        "id": "ctiZtknJz7nD"
      },
      "source": [
        "def scale(X):\n",
        "  mean = X.mean(axis=0)\n",
        "  std = X.std(axis=0)\n",
        "  X-=mean\n",
        "  X/=std\n",
        "  return X"
      ],
      "execution_count": null,
      "outputs": []
    },
    {
      "cell_type": "code",
      "metadata": {
        "id": "CqtcTdZVzl-5"
      },
      "source": [
        "X_train_scaled = scale(X_train)\n",
        "X_val_scaled = scale(X_val)\n",
        "X_test_scaled = scale(X_test)"
      ],
      "execution_count": null,
      "outputs": []
    },
    {
      "cell_type": "code",
      "metadata": {
        "id": "O5_ibC810_1t"
      },
      "source": [
        "y_train = traindf['gender'].values\n",
        "y_val = valdf['gender'].values\n",
        "y_test = testdf['gender'].values"
      ],
      "execution_count": null,
      "outputs": []
    },
    {
      "cell_type": "markdown",
      "metadata": {
        "id": "p6Z_N296S2wB"
      },
      "source": [
        "Gender ML Models\n"
      ]
    },
    {
      "cell_type": "code",
      "metadata": {
        "id": "omHIHCg_vueV"
      },
      "source": [
        "!pip install hypopt -q\n"
      ],
      "execution_count": null,
      "outputs": []
    },
    {
      "cell_type": "code",
      "metadata": {
        "id": "fu5loBscx9WE"
      },
      "source": [
        "#Logistic Regression\n",
        "\n",
        "from sklearn.linear_model import LogisticRegression\n",
        "from sklearn.metrics import accuracy_score, roc_auc_score\n",
        "\n",
        "model = LogisticRegression(max_iter=1000,class_weight='balanced',random_state=0)\n",
        "model.fit(X_train_scaled,y_train)\n",
        "\n",
        "y_pred_train = model.predict(X_train_scaled)\n",
        "y_pred_test = model.predict(X_test_scaled)\n",
        "\n",
        "print('ACCURACY : \\n')\n",
        "print('Train : ' + str(accuracy_score(y_train,y_pred_train)))\n",
        "print('Test : ' + str(accuracy_score(y_test,y_pred_test)))\n",
        "\n",
        "print('\\n ROC_AUC_SCORE : \\n')\n",
        "print('Train : ' + str(roc_auc_score(y_train,y_pred_train)))\n",
        "print('Test : ' + str(roc_auc_score(y_test,y_pred_test)))\n",
        "\n",
        "print(model.get_params)\n",
        "model.score(X_test_scaled, y_test)\n",
        "print(result)"
      ],
      "execution_count": null,
      "outputs": []
    },
    {
      "cell_type": "code",
      "metadata": {
        "id": "DQKplUBRSzBG"
      },
      "source": [
        "# Linear SVC \n",
        "\n",
        "from sklearn.svm import LinearSVC\n",
        "from sklearn.metrics import accuracy_score, roc_auc_score\n",
        "\n",
        "model = LinearSVC(class_weight='balanced',random_state=0)\n",
        "model.fit(X_train_scaled,y_train)\n",
        "\n",
        "y_pred_train = model.predict(X_train_scaled)\n",
        "y_pred_test = model.predict(X_test_scaled)\n",
        "\n",
        "print('ACCURACY : \\n')\n",
        "print('Train : ' + str(accuracy_score(y_train,y_pred_train)))\n",
        "print('Test : ' + str(accuracy_score(y_test,y_pred_test)))\n",
        "\n",
        "print('\\n ROC_AUC_SCORE : \\n')\n",
        "print('Train : ' + str(roc_auc_score(y_train,y_pred_train)))\n",
        "print('Test : ' + str(roc_auc_score(y_test,y_pred_test)))\n",
        "\n",
        "print(model.get_params)\n",
        "result = model.score(X_test_scaled, y_test)\n",
        "print(result)"
      ],
      "execution_count": null,
      "outputs": []
    },
    {
      "cell_type": "code",
      "metadata": {
        "id": "KCwqaOFOtHL0"
      },
      "source": [
        "#Decision Tree\n",
        "\n",
        "from sklearn.tree import DecisionTreeClassifier\n",
        "from sklearn.metrics import accuracy_score, roc_auc_score\n",
        "\n",
        "model = DecisionTreeClassifier(class_weight='balanced',random_state=0)\n",
        "model.fit(X_train,y_train)\n",
        "\n",
        "y_pred_train = model.predict(X_train)\n",
        "y_pred_test = model.predict(X_test)\n",
        "\n",
        "print('ACCURACY : \\n')\n",
        "print('Train : ' + str(accuracy_score(y_train,y_pred_train)))\n",
        "print('Test : ' + str(accuracy_score(y_test,y_pred_test)))\n",
        "\n",
        "print('\\n ROC_AUC_SCORE : \\n')\n",
        "print('Train : ' + str(roc_auc_score(y_train,y_pred_train)))\n",
        "print('Test : ' + str(roc_auc_score(y_test,y_pred_test)))\n",
        "\n",
        "print(model.get_params)\n",
        "result = model.score(X_test_scaled, y_test)\n",
        "print(result)"
      ],
      "execution_count": null,
      "outputs": []
    },
    {
      "cell_type": "code",
      "metadata": {
        "id": "kxcKz-iry4-3"
      },
      "source": [
        "#BaggingClassifier - LR\n",
        "\n",
        "from sklearn.ensemble import BaggingClassifier\n",
        "from sklearn.linear_model import LogisticRegression\n",
        "from sklearn.metrics import accuracy_score, roc_auc_score\n",
        "\n",
        "lr = LogisticRegression(max_iter=1000,class_weight='balanced',random_state=0)\n",
        "model = BaggingClassifier(base_estimator=lr, random_state=0)\n",
        "model.fit(X_train_scaled,y_train)\n",
        "\n",
        "y_pred_train = model.predict(X_train_scaled)\n",
        "y_pred_test = model.predict(X_test_scaled)\n",
        "\n",
        "print('ACCURACY : \\n')\n",
        "print('Train : ' + str(accuracy_score(y_train,y_pred_train)))\n",
        "print('Test : ' + str(accuracy_score(y_test,y_pred_test)))\n",
        "\n",
        "print('\\n ROC_AUC_SCORE : \\n')\n",
        "print('Train : ' + str(roc_auc_score(y_train,y_pred_train)))\n",
        "print('Test : ' + str(roc_auc_score(y_test,y_pred_test)))\n",
        "\n",
        "print(model.get_params)\n",
        "result = model.score(X_test_scaled, y_test)\n",
        "print(result)"
      ],
      "execution_count": null,
      "outputs": []
    },
    {
      "cell_type": "code",
      "metadata": {
        "id": "-KcOU1xZ_vjV"
      },
      "source": [
        "#Random Forest - LR --- Baseline\n",
        "import time \n",
        "from sklearn.ensemble import RandomForestClassifier\n",
        "from sklearn.metrics import accuracy_score, roc_auc_score\n",
        "\n",
        "tic = time.time()\n",
        "model = RandomForestClassifier(random_state=0,class_weight='balanced')\n",
        "model.fit(X_train,y_train)\n",
        "\n",
        "y_pred_train = model.predict(X_train)\n",
        "y_pred_test = model.predict(X_test)\n",
        "\n",
        "print('ACCURACY : \\n')\n",
        "print('Train : ' + str(accuracy_score(y_train,y_pred_train)))\n",
        "print('Test : ' + str(accuracy_score(y_test,y_pred_test)))\n",
        "\n",
        "print('\\n ROC_AUC_SCORE : \\n')\n",
        "print('Train : ' + str(roc_auc_score(y_train,y_pred_train)))\n",
        "print('Test : ' + str(roc_auc_score(y_test,y_pred_test)))\n",
        "\n",
        "toc = time.time()\n",
        "print('Elapsed Time: '+ str(int(toc-tic)))\n",
        "\n",
        "print(model.get_params)\n",
        "result = model.score(X_test_scaled, y_test)\n",
        "print(result)"
      ],
      "execution_count": null,
      "outputs": []
    },
    {
      "cell_type": "code",
      "metadata": {
        "id": "kFgeypt3Bysv"
      },
      "source": [
        "#@title Ada Boost\n",
        "\n",
        "from sklearn.ensemble import AdaBoostClassifier\n",
        "from sklearn.tree import DecisionTreeClassifier\n",
        "\n",
        "tic = time.time()\n",
        "dt = DecisionTreeClassifier(class_weight='balanced',random_state=0)\n",
        "model = AdaBoostClassifier(base_estimator=dt, random_state=0)\n",
        "model.fit(X_train,y_train)\n",
        "\n",
        "y_pred_train = model.predict(X_train)\n",
        "y_pred_test = model.predict(X_test)\n",
        "\n",
        "print('ACCURACY : \\n')\n",
        "print('Train : ' + str(accuracy_score(y_train,y_pred_train)))\n",
        "print('Test : ' + str(accuracy_score(y_test,y_pred_test)))\n",
        "\n",
        "print('\\n ROC_AUC_SCORE : \\n')\n",
        "print('Train : ' + str(roc_auc_score(y_train,y_pred_train)))\n",
        "print('Test : ' + str(roc_auc_score(y_test,y_pred_test)))\n",
        "\n",
        "toc = time.time()\n",
        "print('Elapsed Time: '+ str(int(toc-tic)))\n",
        "\n",
        "print(model.get_params)\n",
        "result = model.score(X_test_scaled, y_test)\n",
        "print(result)"
      ],
      "execution_count": null,
      "outputs": []
    },
    {
      "cell_type": "code",
      "metadata": {
        "id": "o3g4WtYhCwpE"
      },
      "source": [
        "#@title Gradient Boosted Trees\n",
        "\n",
        "from sklearn.ensemble import GradientBoostingClassifier\n",
        "\n",
        "tic = time.time()\n",
        "model = GradientBoostingClassifier(random_state=0)\n",
        "model.fit(X_train,y_train)\n",
        "\n",
        "y_pred_train = model.predict(X_train)\n",
        "y_pred_test = model.predict(X_test)\n",
        "\n",
        "print('ACCURACY : \\n')\n",
        "print('Train : ' + str(accuracy_score(y_train,y_pred_train)))\n",
        "print('Test : ' + str(accuracy_score(y_test,y_pred_test)))\n",
        "\n",
        "print('\\n ROC_AUC_SCORE : \\n')\n",
        "print('Train : ' + str(roc_auc_score(y_train,y_pred_train)))\n",
        "print('Test : ' + str(roc_auc_score(y_test,y_pred_test)))\n",
        "\n",
        "toc = time.time()\n",
        "print('Elapsed Time: '+ str(int(toc-tic)))\n",
        "\n",
        "print(model.get_params)\n",
        "result = model.score(X_test_scaled, y_test)\n",
        "print(result)"
      ],
      "execution_count": null,
      "outputs": []
    },
    {
      "cell_type": "code",
      "metadata": {
        "id": "SMZY3w-VDpvN"
      },
      "source": [
        "#@title LDA\n",
        "\n",
        "from sklearn.discriminant_analysis import LinearDiscriminantAnalysis\n",
        "\n",
        "tic= time.time()\n",
        "model = LinearDiscriminantAnalysis()\n",
        "model.fit(X_train,y_train)\n",
        "\n",
        "y_pred_train = model.predict(X_train)\n",
        "y_pred_test = model.predict(X_test)\n",
        "\n",
        "print('ACCURACY : \\n')\n",
        "print('Train : ' + str(accuracy_score(y_train,y_pred_train)))\n",
        "print('Test : ' + str(accuracy_score(y_test,y_pred_test)))\n",
        "\n",
        "print('\\n ROC_AUC_SCORE : \\n')\n",
        "print('Train : ' + str(roc_auc_score(y_train,y_pred_train)))\n",
        "print('Test : ' + str(roc_auc_score(y_test,y_pred_test)))\n",
        "\n",
        "toc = time.time()\n",
        "print('Elapsed Time: '+ str(int(toc-tic)))\n",
        "\n",
        "print(model.get_params)\n",
        "result = model.score(X_test_scaled, y_test)\n",
        "print(result)"
      ],
      "execution_count": null,
      "outputs": []
    },
    {
      "cell_type": "code",
      "metadata": {
        "id": "KODg750oEcap"
      },
      "source": [
        "#@title QDA\n",
        "\n",
        "from sklearn.discriminant_analysis import QuadraticDiscriminantAnalysis\n",
        "\n",
        "tic= time.time()\n",
        "model = QuadraticDiscriminantAnalysis()\n",
        "model.fit(X_train,y_train)\n",
        "\n",
        "y_pred_train = model.predict(X_train)\n",
        "y_pred_test = model.predict(X_test)\n",
        "\n",
        "print('ACCURACY : \\n')\n",
        "print('Train : ' + str(accuracy_score(y_train,y_pred_train)))\n",
        "print('Test : ' + str(accuracy_score(y_test,y_pred_test)))\n",
        "\n",
        "print('\\n ROC_AUC_SCORE : \\n')\n",
        "print('Train : ' + str(roc_auc_score(y_train,y_pred_train)))\n",
        "print('Test : ' + str(roc_auc_score(y_test,y_pred_test)))\n",
        "\n",
        "toc = time.time()\n",
        "print('Elapsed Time: '+ str(int(toc-tic)))\n",
        "\n",
        "print(model.get_params)\n",
        "result = model.score(X_test_scaled, y_test)\n",
        "print(result)"
      ],
      "execution_count": null,
      "outputs": []
    },
    {
      "cell_type": "code",
      "metadata": {
        "id": "Olg8sK-7EmtA"
      },
      "source": [
        "#@title XGBOOST\n",
        "\n",
        "from xgboost import XGBClassifier\n",
        "from sklearn.metrics import accuracy_score, roc_auc_score\n",
        "\n",
        "tic = time.time()\n",
        "model = XGBClassifier(objective='binary:logistic',random_state=0,booster='gbtree',)\n",
        "model.fit(X_train, y_train)\n",
        "\n",
        "y_pred_train = model.predict(X_train)\n",
        "y_pred_test = model.predict(X_test)\n",
        "\n",
        "print('ACCURACY : \\n')\n",
        "print('Train : ' + str(accuracy_score(y_train,y_pred_train)))\n",
        "print('Test : ' + str(accuracy_score(y_test,y_pred_test)))\n",
        "\n",
        "print('\\n ROC_AUC_SCORE : \\n')\n",
        "print('Train : ' + str(roc_auc_score(y_train,y_pred_train)))\n",
        "print('Test : ' + str(roc_auc_score(y_test,y_pred_test)))\n",
        "\n",
        "toc = time.time()\n",
        "print('Elapsed Time: '+ str(int(toc-tic)))\n",
        "\n",
        "print(model.get_params)\n",
        "result = model.score(X_test_scaled, y_test)\n",
        "print(result)"
      ],
      "execution_count": null,
      "outputs": []
    }
  ]
}