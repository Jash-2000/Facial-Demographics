{
  "nbformat": 4,
  "nbformat_minor": 0,
  "metadata": {
    "colab": {
      "name": "Age_model_Random_Forest.ipynb",
      "provenance": [],
      "collapsed_sections": [],
      "authorship_tag": "ABX9TyOvfpbCEjDs0M/Ji88wdggn"
    },
    "kernelspec": {
      "name": "python3",
      "display_name": "Python 3"
    }
  },
  "cells": [
    {
      "cell_type": "code",
      "metadata": {
        "id": "G2GYAclOaKN7",
        "colab": {
          "base_uri": "https://localhost:8080/",
          "height": 34
        },
        "outputId": "bb20e4b8-899b-4cd6-9883-f24e4261192e"
      },
      "source": [
        "import numpy as np\n",
        "from google.colab import drive\n",
        "drive.mount('/drive/')"
      ],
      "execution_count": null,
      "outputs": [
        {
          "output_type": "stream",
          "text": [
            "Drive already mounted at /drive/; to attempt to forcibly remount, call drive.mount(\"/drive/\", force_remount=True).\n"
          ],
          "name": "stdout"
        }
      ]
    },
    {
      "cell_type": "code",
      "metadata": {
        "id": "2NSQOyEawK9b",
        "colab": {
          "base_uri": "https://localhost:8080/",
          "height": 34
        },
        "outputId": "e9ec35d8-b1e6-4d15-cb14-745280e995e5"
      },
      "source": [
        "grey = np.load(\"/drive/My Drive/ML Data/UTKFaceData/Grey_Preprocessed.npy\")\n",
        "print(grey.shape, grey.dtype)"
      ],
      "execution_count": null,
      "outputs": [
        {
          "output_type": "stream",
          "text": [
            "(23708, 100, 100) uint8\n"
          ],
          "name": "stdout"
        }
      ]
    },
    {
      "cell_type": "code",
      "metadata": {
        "id": "HcLZTl_ea-Uf",
        "colab": {
          "base_uri": "https://localhost:8080/",
          "height": 34
        },
        "outputId": "0a575ead-40d2-424b-faa7-3e65ad886c24"
      },
      "source": [
        "Y = np.load(\"/drive/My Drive/ML Data/Age.npy\")\n",
        "\n",
        "print(Y.shape)"
      ],
      "execution_count": null,
      "outputs": [
        {
          "output_type": "stream",
          "text": [
            "(23708, 1)\n"
          ],
          "name": "stdout"
        }
      ]
    },
    {
      "cell_type": "code",
      "metadata": {
        "id": "79jxoQWMfQS4"
      },
      "source": [
        "Y = Y.astype(np.uint8)\n",
        "y = Y.ravel()"
      ],
      "execution_count": null,
      "outputs": []
    },
    {
      "cell_type": "code",
      "metadata": {
        "id": "azcRFUOG8OSe"
      },
      "source": [
        "Y_final = []\n",
        "for age in y:\n",
        "  if age < 15:\n",
        "    Y_final.append(0)           # Child\n",
        "  elif age < 25:\n",
        "    Y_final.append(1)           # Young age\n",
        "  elif age < 40:\n",
        "    Y_final.append(2)           # Middle age\n",
        "  elif age < 70:\n",
        "    Y_final.append(3)           # Adults\n",
        "  elif age >= 70:\n",
        "    Y_final.append(4)           # Old age\n"
      ],
      "execution_count": null,
      "outputs": []
    },
    {
      "cell_type": "code",
      "metadata": {
        "id": "Zb5A37WhJGPc"
      },
      "source": [
        "import cv2\n",
        "import matplotlib.pyplot as plt\n",
        "\n",
        "# Building Gabor Filters for coloured images.\n",
        "\n",
        "def build_filters():\n",
        "   filters = []\n",
        "   ksize = 31\n",
        "   for theta in np.arange(0, np.pi, np.pi / 16):\n",
        "       for lambdat in np.arange(10,11,12):\n",
        "           for gamma in np.arange(0.5,1,3):\n",
        "                   kern = cv2.getGaborKernel((ksize, ksize), 4.0, theta, lambdat, gamma, 0, ktype=cv2.CV_32F)\n",
        "                   kern /= 1.5*kern.sum()\n",
        "                   filters.append(kern)\n",
        "   return filters\n",
        "\n",
        " \n",
        "def process(img, filters):\n",
        "    accum = np.zeros_like(img)\n",
        "    for kern in filters:\n",
        "        fimg = cv2.filter2D(img, cv2.CV_8UC3, kern)\n",
        "        np.maximum(accum, fimg, accum)\n",
        "    return accum\n"
      ],
      "execution_count": null,
      "outputs": []
    },
    {
      "cell_type": "code",
      "metadata": {
        "id": "jGdr_APAuu26",
        "colab": {
          "base_uri": "https://localhost:8080/",
          "height": 285
        },
        "outputId": "8b5ea1df-7386-4775-d086-9d74645e113e"
      },
      "source": [
        "print(\"The image before Gabor is applied\")\n",
        "plt.imshow(grey[4867], cmap = 'Greys')\n",
        "plt.show()"
      ],
      "execution_count": null,
      "outputs": [
        {
          "output_type": "stream",
          "text": [
            "The image before Gabor is applied\n"
          ],
          "name": "stdout"
        },
        {
          "output_type": "display_data",
          "data": {
            "image/png": "[encoded data removed]",
            "text/plain": [
              "<Figure size 432x288 with 1 Axes>"
            ]
          },
          "metadata": {
            "tags": [],
            "needs_background": "light"
          }
        }
      ]
    },
    {
      "cell_type": "code",
      "metadata": {
        "id": "tq5iD4FNuOkb"
      },
      "source": [
        "filters = build_filters()\n",
        "\n",
        "grey_f1 = []\n",
        "\n",
        "for i in range(0,23708):\n",
        "  grey_f1.append(process(grey[i], filters)) "
      ],
      "execution_count": null,
      "outputs": []
    },
    {
      "cell_type": "code",
      "metadata": {
        "id": "YiIATaJzw-mq"
      },
      "source": [
        "greyF1 = np.array(grey_f1,dtype = np.uint8)\n",
        "del grey_f1"
      ],
      "execution_count": null,
      "outputs": []
    },
    {
      "cell_type": "code",
      "metadata": {
        "id": "rBZGxjCHvSeW"
      },
      "source": [
        "print(\"The image after Gabor is applied\")\n",
        "\n",
        "plt.imshow(greyF1[4867], cmap = 'Greys')\n",
        "plt.show()"
      ],
      "execution_count": null,
      "outputs": []
    },
    {
      "cell_type": "code",
      "metadata": {
        "id": "4wblnano-Ph2"
      },
      "source": [
        "del filters"
      ],
      "execution_count": null,
      "outputs": []
    },
    {
      "cell_type": "code",
      "metadata": {
        "id": "Zy0fu04FyF78"
      },
      "source": [
        "print(greyF1.shape)"
      ],
      "execution_count": null,
      "outputs": []
    },
    {
      "cell_type": "markdown",
      "metadata": {
        "id": "6lqTl0Osv6R_"
      },
      "source": [
        "Now loading the grey dataset."
      ]
    },
    {
      "cell_type": "code",
      "metadata": {
        "id": "nxXk66JIwUz0"
      },
      "source": [
        "for i in range(0,23708):\n",
        "  \n",
        "  b1 = cv2.GaussianBlur(grey[i], (1,1), 3)\n",
        "  b2 = cv2.GaussianBlur(grey[i], (3,3), 3)\n",
        "  grey[i] = b1 - b2                                       # Applying DoG ( Difference of Guassian )\n",
        "  "
      ],
      "execution_count": null,
      "outputs": []
    },
    {
      "cell_type": "code",
      "metadata": {
        "id": "WlwY3HbaPT8q"
      },
      "source": [
        "print(grey.shape)"
      ],
      "execution_count": null,
      "outputs": []
    },
    {
      "cell_type": "code",
      "metadata": {
        "id": "inkxujrU0LOs"
      },
      "source": [
        "del Y"
      ],
      "execution_count": null,
      "outputs": []
    },
    {
      "cell_type": "code",
      "metadata": {
        "id": "Hb_-TgFkJxzD"
      },
      "source": [
        "X_final = np.concatenate((greyF1.reshape(23708,10000), grey.reshape(23708,10000)), axis=1)\n",
        "print(X_final.shape)"
      ],
      "execution_count": null,
      "outputs": []
    },
    {
      "cell_type": "code",
      "metadata": {
        "id": "mLAg5ENA4kIh"
      },
      "source": [
        "del grey\n",
        "del greyF1"
      ],
      "execution_count": null,
      "outputs": []
    },
    {
      "cell_type": "code",
      "metadata": {
        "id": "WGMpeoZ3bxB8"
      },
      "source": [
        "from sklearn.model_selection import GridSearchCV\n",
        "from sklearn.model_selection import train_test_split\n",
        "from sklearn.decomposition import PCA\n",
        "from sklearn.svm import SVR\n",
        "from sklearn.metrics import accuracy_score,recall_score,precision_score,f1_score\n",
        "from sklearn.metrics import confusion_matrix\n",
        "from sklearn.pipeline import Pipeline\n",
        "from sklearn.preprocessing import StandardScaler\n",
        "from sklearn.preprocessing import MinMaxScaler"
      ],
      "execution_count": null,
      "outputs": []
    },
    {
      "cell_type": "code",
      "metadata": {
        "id": "9zpjxBFSzmR4"
      },
      "source": [
        "# checking the distribution of labels.\n",
        "plt.hist(Y_final, bins=15)"
      ],
      "execution_count": null,
      "outputs": []
    },
    {
      "cell_type": "markdown",
      "metadata": {
        "id": "ojssSST00GSC"
      },
      "source": [
        "Before providing the X_final, the two different datasets would be concatenated and their labels would also be checked.\n",
        "\n",
        "After the split, we will seperate them again"
      ]
    },
    {
      "cell_type": "code",
      "metadata": {
        "id": "VVX9fDz3XC4q"
      },
      "source": [
        "y_final = np.array(Y_final)\n",
        "print(y_final.shape)"
      ],
      "execution_count": null,
      "outputs": []
    },
    {
      "cell_type": "code",
      "metadata": {
        "id": "dKD7BJcu1G0G"
      },
      "source": [
        "del Y_final"
      ],
      "execution_count": null,
      "outputs": []
    },
    {
      "cell_type": "code",
      "metadata": {
        "id": "DtG3Jl7MgHJ-"
      },
      "source": [
        "X_train, X_test, y_train, y_test = train_test_split(X_final/255,y_final,test_size=0.2, random_state=30)"
      ],
      "execution_count": null,
      "outputs": []
    },
    {
      "cell_type": "code",
      "metadata": {
        "id": "BB1aoe_c9WjH"
      },
      "source": [
        "np.save(\"/drive/My Drive/ML Data/jash_ageclassification_X_train.npy\", X_train)\n",
        "np.save(\"/drive/My Drive/ML Data/jash_ageclassification_y_train.npy\", y_train)\n",
        "np.save(\"/drive/My Drive/ML Data/jash_ageclassification_X_test.npy\", X_test)\n",
        "np.save(\"/drive/My Drive/ML Data/jash_ageclassification_y_test.npy\", y_test)"
      ],
      "execution_count": null,
      "outputs": []
    },
    {
      "cell_type": "code",
      "metadata": {
        "id": "PiWmTLf91NYh"
      },
      "source": [
        "del X_final, y_final"
      ],
      "execution_count": null,
      "outputs": []
    },
    {
      "cell_type": "code",
      "metadata": {
        "id": "JqVOoTbGWJds"
      },
      "source": [
        "import numpy as np\n",
        "\n",
        "X_train = np.load(\"/drive/My Drive/ML Data/jash_ageclassification_X_train.npy\")\n",
        "y_train = np.load(\"/drive/My Drive/ML Data/jash_ageclassification_y_train.npy\")\n",
        "X_test = np.load(\"/drive/My Drive/ML Data/jash_ageclassification_X_test.npy\")\n",
        "y_test = np.load(\"/drive/My Drive/ML Data/jash_ageclassification_y_test.npy\")"
      ],
      "execution_count": null,
      "outputs": []
    },
    {
      "cell_type": "code",
      "metadata": {
        "id": "K8oG2vT11hL5",
        "colab": {
          "base_uri": "https://localhost:8080/",
          "height": 51
        },
        "outputId": "d423f574-5c44-4699-aea0-667a14d844f9"
      },
      "source": [
        "print(X_train.shape, X_test.shape, y_train.shape, y_test.shape)\n",
        "print(X_train.dtype, X_test.dtype, y_train.shape, y_test.shape)"
      ],
      "execution_count": null,
      "outputs": [
        {
          "output_type": "stream",
          "text": [
            "(18966, 20000) (4742, 20000) (18966,) (4742,)\n",
            "float64 float64 (18966,) (4742,)\n"
          ],
          "name": "stdout"
        }
      ]
    },
    {
      "cell_type": "code",
      "metadata": {
        "id": "mbHijukBaoSb"
      },
      "source": [
        "X_train = X_train.astype(np.uint8)\n",
        "X_test = X_test.astype(np.uint8)\n",
        "y_train = y_train.astype(np.uint8)\n",
        "y_test = X_test.astype(np.uint8)"
      ],
      "execution_count": null,
      "outputs": []
    },
    {
      "cell_type": "code",
      "metadata": {
        "id": "mMRcI1zCa8a5",
        "colab": {
          "base_uri": "https://localhost:8080/",
          "height": 51
        },
        "outputId": "d2782270-9b85-42bd-d0eb-0685c1d3effa"
      },
      "source": [
        "print(X_train.shape, X_test.shape, y_train.shape, y_test.shape)\n",
        "print(X_train.dtype, X_test.dtype, y_train.shape, y_test.shape)"
      ],
      "execution_count": null,
      "outputs": [
        {
          "output_type": "stream",
          "text": [
            "(18966, 20000) (4742, 20000) (18966,) (4742, 20000)\n",
            "uint8 uint8 (18966,) (4742, 20000)\n"
          ],
          "name": "stdout"
        }
      ]
    },
    {
      "cell_type": "code",
      "metadata": {
        "id": "qRTiiqyOoUZx"
      },
      "source": [
        "\n",
        "from sklearn.discriminant_analysis import LinearDiscriminantAnalysis as LDA\n",
        "\n",
        "lda = LDA( n_components= 3 )\n",
        "X_train_final = lda.fit_transform(X_train, y_train)\n",
        "del X_train\n"
      ],
      "execution_count": null,
      "outputs": []
    },
    {
      "cell_type": "code",
      "metadata": {
        "id": "qI8SmHyU4GTC",
        "colab": {
          "base_uri": "https://localhost:8080/",
          "height": 34
        },
        "outputId": "24a6e731-e02d-4807-cacf-451222fcda4c"
      },
      "source": [
        "\n",
        "X_test_final = lda.transform(X_test)\n",
        "del X_test\n"
      ],
      "execution_count": null,
      "outputs": [
        {
          "output_type": "execute_result",
          "data": {
            "text/plain": [
              "'\\nX_test_final = lda.transform(X_test)\\ndel X_test\\n'"
            ]
          },
          "metadata": {
            "tags": []
          },
          "execution_count": 27
        }
      ]
    },
    {
      "cell_type": "code",
      "metadata": {
        "id": "XTaXiYVG_Nkw"
      },
      "source": [
        "from sklearn.linear_model import LogisticRegressionCV\n",
        "from sklearn.feature_selection import SelectFromModel\n",
        "\n",
        "selector = SelectFromModel(estimator=LogisticRegressionCV())\n",
        "\n",
        "X_train_final = selector.fit_transform(X_train,y_train)\n",
        "X_test_final = selector.ransform(X_test)\n",
        "\n",
        "del X_train\n",
        "del X_test"
      ],
      "execution_count": null,
      "outputs": []
    },
    {
      "cell_type": "code",
      "metadata": {
        "id": "KUtICTw-Tm8B",
        "colab": {
          "base_uri": "https://localhost:8080/",
          "height": 153
        },
        "outputId": "e65e1469-3864-475c-a672-5e79e0c74893"
      },
      "source": [
        "from sklearn.ensemble import RandomForestClassifier\n",
        "clf = RandomForestClassifier(n_estimators = 1000, random_state=0, class_weight='balanced')\n",
        "clf.fit(X_train , y_train)"
      ],
      "execution_count": null,
      "outputs": [
        {
          "output_type": "execute_result",
          "data": {
            "text/plain": [
              "RandomForestClassifier(bootstrap=True, ccp_alpha=0.0, class_weight='balanced',\n",
              "                       criterion='gini', max_depth=None, max_features='auto',\n",
              "                       max_leaf_nodes=None, max_samples=None,\n",
              "                       min_impurity_decrease=0.0, min_impurity_split=None,\n",
              "                       min_samples_leaf=1, min_samples_split=2,\n",
              "                       min_weight_fraction_leaf=0.0, n_estimators=1000,\n",
              "                       n_jobs=None, oob_score=False, random_state=0, verbose=0,\n",
              "                       warm_start=False)"
            ]
          },
          "metadata": {
            "tags": []
          },
          "execution_count": 4
        }
      ]
    },
    {
      "cell_type": "code",
      "metadata": {
        "id": "ssAJZfrh_VYD"
      },
      "source": [
        "y_pred = clf.predict(X_test)"
      ],
      "execution_count": null,
      "outputs": []
    },
    {
      "cell_type": "code",
      "metadata": {
        "id": "T3zZIMgLdTha"
      },
      "source": [
        "print(y_pred)"
      ],
      "execution_count": null,
      "outputs": []
    },
    {
      "cell_type": "code",
      "metadata": {
        "id": "c0wYEr51bStY"
      },
      "source": [
        "from sklearn.metrics import classification_report as clr\n",
        "target_names = ['class 0', 'class 1', 'class 2', 'class 3', 'class 4']\n",
        "print(clr(y_test,y_pred, target_names=target_names))"
      ],
      "execution_count": null,
      "outputs": []
    },
    {
      "cell_type": "code",
      "metadata": {
        "id": "tdWvSe7A_r3X"
      },
      "source": [
        "np.save(\"/drive/My Drive/ML Data/jash_ageclassification_y_pred.npy\", y_pred)\n"
      ],
      "execution_count": null,
      "outputs": []
    }
  ]
}