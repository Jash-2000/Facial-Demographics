{
  "nbformat": 4,
  "nbformat_minor": 0,
  "metadata": {
    "colab": {
      "name": "Age_SVM.ipynb",
      "provenance": [],
      "collapsed_sections": [],
      "authorship_tag": "ABX9TyNmbouR4d79G6jaOJB4um/n"
    },
    "kernelspec": {
      "name": "python3",
      "display_name": "Python 3"
    }
  },
  "cells": [
    {
      "cell_type": "code",
      "metadata": {
        "id": "G2GYAclOaKN7",
        "colab": {
          "base_uri": "https://localhost:8080/",
          "height": 122
        },
        "outputId": "64f065c2-8b8a-4424-e5cc-be117cbf962d"
      },
      "source": [
        "from google.colab import drive\n",
        "drive.mount('/drive/')"
      ],
      "execution_count": null,
      "outputs": [
        {
          "output_type": "stream",
          "text": [
            "Go to this URL in a browser: https://accounts.google.com/o/oauth2/auth?client_id=947318989803-6bn6qk8qdgf4n4g3pfee6491hc0brc4i.apps.googleusercontent.com&redirect_uri=urn%3aietf%3awg%3aoauth%3a2.0%3aoob&response_type=code&scope=email%20https%3a%2f%2fwww.googleapis.com%2fauth%2fdocs.test%20https%3a%2f%2fwww.googleapis.com%2fauth%2fdrive%20https%3a%2f%2fwww.googleapis.com%2fauth%2fdrive.photos.readonly%20https%3a%2f%2fwww.googleapis.com%2fauth%2fpeopleapi.readonly\n",
            "\n",
            "Enter your authorization code:\n",
            "··········\n",
            "Mounted at /drive/\n"
          ],
          "name": "stdout"
        }
      ]
    },
    {
      "cell_type": "code",
      "metadata": {
        "id": "WkisJ2CPaYZo",
        "colab": {
          "base_uri": "https://localhost:8080/",
          "height": 34
        },
        "outputId": "7db5113d-d908-4c35-bfaa-1b31a4c8f38f"
      },
      "source": [
        "import numpy as np\n",
        "\n",
        "X = np.load(\"/drive/My Drive/ML Data/Grey_Image_Filtered.npy\")\n",
        "print(X.shape)"
      ],
      "execution_count": null,
      "outputs": [
        {
          "output_type": "stream",
          "text": [
            "(23708, 20000)\n"
          ],
          "name": "stdout"
        }
      ]
    },
    {
      "cell_type": "code",
      "metadata": {
        "id": "HcLZTl_ea-Uf",
        "colab": {
          "base_uri": "https://localhost:8080/",
          "height": 34
        },
        "outputId": "d930af22-aee5-4fc6-f834-dc8c720a2656"
      },
      "source": [
        "Y = np.load(\"/drive/My Drive/ML Data/Age.npy\")\n",
        "print(Y.shape)"
      ],
      "execution_count": null,
      "outputs": [
        {
          "output_type": "stream",
          "text": [
            "(23708, 1)\n"
          ],
          "name": "stdout"
        }
      ]
    },
    {
      "cell_type": "code",
      "metadata": {
        "id": "WGMpeoZ3bxB8"
      },
      "source": [
        "import numpy as np\n",
        "import matplotlib.pyplot as plt\n",
        "from sklearn.model_selection import GridSearchCV\n",
        "from sklearn.model_selection import train_test_split\n",
        "from sklearn.decomposition import PCA\n",
        "from sklearn.svm import SVR\n",
        "from sklearn.metrics import accuracy_score,recall_score,precision_score,f1_score\n",
        "from sklearn.metrics import confusion_matrix\n",
        "from sklearn.pipeline import Pipeline\n",
        "from sklearn.preprocessing import StandardScaler\n",
        "from sklearn.preprocessing import MinMaxScaler"
      ],
      "execution_count": null,
      "outputs": []
    },
    {
      "cell_type": "code",
      "metadata": {
        "id": "79jxoQWMfQS4"
      },
      "source": [
        "Y = Y.astype(np.uint32)\n",
        "y = Y.ravel()"
      ],
      "execution_count": null,
      "outputs": []
    },
    {
      "cell_type": "code",
      "metadata": {
        "id": "azcRFUOG8OSe",
        "colab": {
          "base_uri": "https://localhost:8080/",
          "height": 34
        },
        "outputId": "d3ceeda2-ed9b-438e-e03c-ec37caee91dd"
      },
      "source": [
        "scaler1 = StandardScaler()\n",
        "scaler1.fit(X)\n",
        "x_std = scaler1.transform(X)\n",
        "\n",
        "print(\"Done\")"
      ],
      "execution_count": null,
      "outputs": [
        {
          "output_type": "stream",
          "text": [
            "Done\n"
          ],
          "name": "stdout"
        }
      ]
    },
    {
      "cell_type": "code",
      "metadata": {
        "id": "Zb5A37WhJGPc",
        "colab": {
          "base_uri": "https://localhost:8080/",
          "height": 34
        },
        "outputId": "b3a6d5da-06e8-496c-bfd6-7efebb787b2e"
      },
      "source": [
        "scaling = MinMaxScaler(feature_range=(-1,1)).fit(x_std)\n",
        "x_std = scaling.transform(x_std)\n",
        "\n",
        "print(x_std[1])"
      ],
      "execution_count": null,
      "outputs": [
        {
          "output_type": "stream",
          "text": [
            "[-1.     1.     1.    ... -0.938 -0.938 -0.874]\n"
          ],
          "name": "stdout"
        }
      ]
    },
    {
      "cell_type": "code",
      "metadata": {
        "id": "4wblnano-Ph2",
        "colab": {
          "base_uri": "https://localhost:8080/",
          "height": 34
        },
        "outputId": "09e95054-7188-4f39-bad0-2bc519911563"
      },
      "source": [
        "del X\n",
        "\n",
        "print(x_std.shape)"
      ],
      "execution_count": null,
      "outputs": [
        {
          "output_type": "stream",
          "text": [
            "(23708, 20000)\n"
          ],
          "name": "stdout"
        }
      ]
    },
    {
      "cell_type": "code",
      "metadata": {
        "id": "MGYeBTq0DNmb"
      },
      "source": [
        "y_final = []\n",
        "x_final = []\n",
        "\n",
        "for i in range(0,23708):\n",
        "  if(Y[i] > 14 and Y[i]< 26):\n",
        "    y_final.append(Y[i])\n",
        "    x_final.append(x_std[i]) \n"
      ],
      "execution_count": null,
      "outputs": []
    },
    {
      "cell_type": "code",
      "metadata": {
        "id": "7t2zXqAmKyDJ"
      },
      "source": [
        "y_final = np.asarray(y_final)\n",
        "x_final = np.asarray(x_final)\n",
        "print(y_final.shape, type(y_final))\n",
        "print(x_final.shape, type(x_final))"
      ],
      "execution_count": null,
      "outputs": []
    },
    {
      "cell_type": "code",
      "metadata": {
        "id": "7h9u24JZ7sb6"
      },
      "source": [
        "\n",
        "X_train, X_test, y_train, y_test = train_test_split(x_final,y_final,test_size=0.2, random_state=30)\n",
        "del x_std\n"
      ],
      "execution_count": null,
      "outputs": []
    },
    {
      "cell_type": "code",
      "metadata": {
        "id": "in1dRZr77xU0",
        "colab": {
          "base_uri": "https://localhost:8080/",
          "height": 51
        },
        "outputId": "b61ede21-fc7b-460c-c08c-8b171f5dd807"
      },
      "source": [
        "pca = PCA(n_components=0.95, svd_solver='full')\n",
        "\n",
        "X_train_final = pca.fit_transform(X_train)\n",
        "X_test_final = pca.transform(X_test)\n",
        "\n",
        "print(\"Done with PCA\\n\") "
      ],
      "execution_count": null,
      "outputs": [
        {
          "output_type": "stream",
          "text": [
            "Done with PCA\n",
            "\n"
          ],
          "name": "stdout"
        }
      ]
    },
    {
      "cell_type": "code",
      "metadata": {
        "id": "E6hNrFgRlqCr"
      },
      "source": [
        "y_test = y_test.ravel()\n",
        "y_train = y_train.ravel()"
      ],
      "execution_count": null,
      "outputs": []
    },
    {
      "cell_type": "code",
      "metadata": {
        "id": "-G6oSjV8dcYW"
      },
      "source": [
        "# Linear model\n",
        "svm_l = SVR(kernel = 'linear')\n",
        "\n",
        "parameters_l = {'C':[0.001, 0.1, 100, 10e5]}\n",
        "grid_l = GridSearchCV(svm_l, parameters_l, cv=5)\n",
        "grid_l.fit(X_train, y_train)\n",
        "y_pred_l = grid_l.predict(X_test)\n",
        "acc_l = accuracy_score(y_test,y_pred_l)\n",
        "print('Test Accuracy Score for linear kernel: ' + str(acc_l))\n",
        "\n",
        "print(\"Done with Linear model\")             # Just an interrupt\n",
        "\n"
      ],
      "execution_count": null,
      "outputs": []
    },
    {
      "cell_type": "code",
      "metadata": {
        "id": "TSkkv7x5odUa"
      },
      "source": [
        "y_test = y_test.astype(np.float)"
      ],
      "execution_count": null,
      "outputs": []
    },
    {
      "cell_type": "code",
      "metadata": {
        "id": "LtkTYPk4oUYR"
      },
      "source": [
        "from sklearn.metrics import mean_absolute_error as mae\n",
        "\n",
        "acc_l = mae(y_test,y_pred_l)\n",
        "print('Test Accuracy Score for linear kernel: ' + str(acc_l))\n",
        "print(\"Done with Linear model\")             # Just an interrupt\n"
      ],
      "execution_count": null,
      "outputs": []
    },
    {
      "cell_type": "code",
      "metadata": {
        "id": "vgNDadX1oIPT"
      },
      "source": [
        "# Sigmoid Model\n",
        "svm_s = SVR(kernel='sigmoid')\n",
        "\n",
        "parameters_s = {'C':[0.001, 0.1, 100, 10e5], 'gamma':[10,1,0.1,0.01]}\n",
        "grid_s = GridSearchCV(svm_s, parameters_s, cv=5)\n",
        "grid_s.fit(X_train, y_train)\n",
        "y_pred_s = grid_s.predict(X_test)\n",
        "acc_s = mae(y_test,y_pred_s)\n",
        "print('Test Accuracy Score for sigmoid kernel : ' + str(acc_s))\n",
        "\n",
        "print(\"Done with Sigmoid model\")             # Just an interrupt\n",
        "\n"
      ],
      "execution_count": null,
      "outputs": []
    },
    {
      "cell_type": "code",
      "metadata": {
        "id": "NCCcA_8jKMhM"
      },
      "source": [
        "import joblib"
      ],
      "execution_count": null,
      "outputs": []
    },
    {
      "cell_type": "code",
      "metadata": {
        "id": "NHAFcb5cKKp-",
        "colab": {
          "base_uri": "https://localhost:8080/",
          "height": 34
        },
        "outputId": "1b158f97-eb76-4835-8a71-e54f5beb40b8"
      },
      "source": [
        "filename1 = '/drive/My Drive/ML Data/Grey_Age_UTK_Sobel_PCA/LinearModel.sav'\n",
        "joblib.dump(grid_l, filename1)\n",
        "\n",
        "filename2 = '/drive/My Drive/ML Data/Grey_Age_UTK_Sobel_PCA/SigmoidModel.sav'\n",
        "joblib.dump(grid_s, filename2)"
      ],
      "execution_count": null,
      "outputs": [
        {
          "output_type": "execute_result",
          "data": {
            "text/plain": [
              "['/drive/My Drive/ML Data/Grey_Age_UTK_Sobel_PCA/SigmoidModel.sav']"
            ]
          },
          "metadata": {
            "tags": []
          },
          "execution_count": 29
        }
      ]
    },
    {
      "cell_type": "code",
      "metadata": {
        "id": "JJjJEiyZoH9U"
      },
      "source": [
        "# Polynomial model\n",
        "\n",
        "svm_poly = SVR(kernel = 'poly')\n",
        "\n",
        "parameters_poly = {'C':[ 0.1, 100], 'gamma':[1,0.01]}\n",
        "grid_poly = GridSearchCV(svm_poly, parameters_poly, cv=5)\n",
        "grid_poly.fit(X_train, y_train)\n",
        "y_pred = grid_poly.predict(X_test)\n",
        "acc_poly = mae(y_test,y_pred_poly)\n",
        "print('Test Accuracy Score for polynomial kenel: ' + str(acc_poly))\n"
      ],
      "execution_count": null,
      "outputs": []
    },
    {
      "cell_type": "code",
      "metadata": {
        "id": "pj036wS3N1gj"
      },
      "source": [
        "filename4 = '/drive/My Drive/ML Data/Grey_Age_UTK_Sobel_PCA/PolynomialModel.sav'\n",
        "joblib.dump(grid_poly, filename4)"
      ],
      "execution_count": null,
      "outputs": []
    },
    {
      "cell_type": "code",
      "metadata": {
        "id": "HEx2vbrioHJM"
      },
      "source": [
        "# rbf Model\n",
        "svm_rbf = SVR(kernel = 'rbf')\n",
        "\n",
        "parameters_rbf = {'C':[0.001, 0.1, 100, 10e5], 'gamma':[10,1,0.1,0.01]}\n",
        "grid_rbf = GridSearchCV(svm_rbf, parameters_rbf, cv=5)\n",
        "grid_rbf.fit(X_train, y_train)\n",
        "y_pred_rbf = grid_rbf.predict(X_test)\n",
        "acc_rbf = mae(y_test,y_pred_rbf)\n",
        "print('Test Accuracy Score for rbf kernel: ' + str(acc_rbf))\n",
        "\n",
        "print(\"Done with rbf model\")             # Just an interrupt\n"
      ],
      "execution_count": null,
      "outputs": []
    },
    {
      "cell_type": "code",
      "metadata": {
        "id": "U-JdXqmVfInk",
        "colab": {
          "base_uri": "https://localhost:8080/",
          "height": 51
        },
        "outputId": "73240d53-4626-4367-f19e-294125180fca"
      },
      "source": [
        " print(X_test.shape, X_train.shape)\n",
        " print(y_test.dtype, y_pred_l.dtype)"
      ],
      "execution_count": null,
      "outputs": [
        {
          "output_type": "stream",
          "text": [
            "(798, 20000) (3188, 20000)\n",
            "uint32 float64\n"
          ],
          "name": "stdout"
        }
      ]
    },
    {
      "cell_type": "code",
      "metadata": {
        "id": "qbV_hR2inQjE"
      },
      "source": [
        "filename3 = '/drive/My Drive/ML Data/Grey_Age_UTK_Sobel_PCA/RBFModel.sav'\n",
        "joblib.dump(grid_rbf, filename3)\n",
        "\n"
      ],
      "execution_count": null,
      "outputs": []
    },
    {
      "cell_type": "code",
      "metadata": {
        "id": "Hb_-TgFkJxzD"
      },
      "source": [
        "# print best parameter after tuning \n",
        "print('Linear',grid_l.best_params_) \n",
        "  \n",
        "# print how our model looks after hyper-parameter tuning \n",
        "print('Linear',grid_l.best_estimator_)\n",
        "\n",
        "\n",
        "# print best parameter after tuning \n",
        "print('Sigmoid', grid_s.best_params_) \n",
        "  \n",
        "# print how our model looks after hyper-parameter tuning \n",
        "print('Sigmoid',grid_s.best_estimator_) \n",
        "\n",
        "\n",
        "# print best parameter after tuning \n",
        "print('RBF',grid_rbf.best_params_) \n",
        "  \n",
        "# print how our model looks after hyper-parameter tuning \n",
        "print('RBF',grid_rbf.best_estimator_) \n",
        "\n",
        "\n",
        "\n",
        "# print best parameter after tuning \n",
        "print('POLY', grid_poly.best_params_) \n",
        "  \n",
        "# print how our model looks after hyper-parameter tuning \n",
        "print('POLY',grid_poly.best_estimator_) "
      ],
      "execution_count": null,
      "outputs": []
    },
    {
      "cell_type": "code",
      "metadata": {
        "id": "GKIX6n2-MjS4"
      },
      "source": [
        ""
      ],
      "execution_count": null,
      "outputs": []
    }
  ]
}