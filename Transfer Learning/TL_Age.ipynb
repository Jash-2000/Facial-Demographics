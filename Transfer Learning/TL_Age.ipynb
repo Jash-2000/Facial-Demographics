{
  "nbformat": 4,
  "nbformat_minor": 0,
  "metadata": {
    "colab": {
      "name": "TL_Age.ipynb",
      "provenance": [],
      "collapsed_sections": []
    },
    "kernelspec": {
      "name": "python3",
      "display_name": "Python 3"
    },
    "accelerator": "GPU"
  },
  "cells": [
    {
      "cell_type": "code",
      "metadata": {
        "id": "EcRD_xVhR54r",
        "colab": {
          "base_uri": "https://localhost:8080/",
          "height": 34
        },
        "outputId": "ce116134-7da7-4e92-b3f7-33132f306125"
      },
      "source": [
        "import numpy as np\n",
        "import matplotlib.pyplot as plt\n",
        "import pandas as pd\n",
        "import os\n",
        "import tensorflow as tf\n",
        "from keras.models import Sequential\n",
        "from keras.layers.core import Dense, Dropout, Flatten, Activation\n",
        "from keras.layers import Conv2D, MaxPooling2D,AlphaDropout,SeparableConv2D, SpatialDropout2D, MaxPooling2D\n",
        "from tensorflow.keras import regularizers\n",
        "from keras.utils import np_utils\n",
        "from keras.layers.normalization import BatchNormalization\n",
        "from keras.callbacks import EarlyStopping\n",
        "%matplotlib inline"
      ],
      "execution_count": null,
      "outputs": [
        {
          "output_type": "stream",
          "text": [
            "Using TensorFlow backend.\n"
          ],
          "name": "stderr"
        }
      ]
    },
    {
      "cell_type": "code",
      "metadata": {
        "id": "p5Bou53wENiS",
        "colab": {
          "base_uri": "https://localhost:8080/",
          "height": 34
        },
        "outputId": "304ae0b2-d822-435a-e7b0-505cc543826d"
      },
      "source": [
        "!pip install git+https://github.com/rcmalli/keras-vggface.git -q"
      ],
      "execution_count": null,
      "outputs": [
        {
          "output_type": "stream",
          "text": [
            "  Building wheel for keras-vggface (setup.py) ... \u001b[?25l\u001b[?25hdone\n"
          ],
          "name": "stdout"
        }
      ]
    },
    {
      "cell_type": "code",
      "metadata": {
        "id": "5XCxAUt8Ez_-",
        "colab": {
          "base_uri": "https://localhost:8080/",
          "height": 51
        },
        "outputId": "07338633-379c-48fb-a3f9-8736d505d14b"
      },
      "source": [
        "from keras_vggface.vggface import VGGFace\n",
        "sen = VGGFace(model='senet50',include_top=False, input_shape=(200, 200, 3))"
      ],
      "execution_count": null,
      "outputs": [
        {
          "output_type": "stream",
          "text": [
            "Downloading data from https://github.com/rcmalli/keras-vggface/releases/download/v2.0/rcmalli_vggface_tf_notop_senet50.h5\n",
            "104947712/104944616 [==============================] - 4s 0us/step\n"
          ],
          "name": "stdout"
        }
      ]
    },
    {
      "cell_type": "code",
      "metadata": {
        "id": "ANyArKGZE3zT"
      },
      "source": [
        "fx_train_sen = sen.predict(x_train)\n",
        "fx_val_sen = sen.predict(x_val)\n",
        "fx_test_sen = sen.predict(x_test)"
      ],
      "execution_count": null,
      "outputs": []
    },
    {
      "cell_type": "code",
      "metadata": {
        "id": "zldDlxBYRfyJ"
      },
      "source": [
        "#Loading Labels\n",
        "traindf = pd.read_excel('/content/drive/My Drive/Facial Demographics/traindf.xlsx')\n",
        "valdf = pd.read_excel('/content/drive/My Drive/Facial Demographics/valdf.xlsx')\n",
        "testdf = pd.read_excel('/content/drive/My Drive/Facial Demographics/testdf.xlsx')\n",
        "traindf.head()"
      ],
      "execution_count": null,
      "outputs": []
    },
    {
      "cell_type": "markdown",
      "metadata": {
        "id": "p6Z_N296S2wB"
      },
      "source": [
        "Age Estimation Model"
      ]
    },
    {
      "cell_type": "code",
      "metadata": {
        "id": "suoED45HT4-t"
      },
      "source": [
        "print('Train : '+str(fx_train_sen.shape))\n",
        "print('Val : '+str(fx_val_sen.shape))\n",
        "print('Test : '+str(fx_test_sen.shape))"
      ],
      "execution_count": null,
      "outputs": []
    },
    {
      "cell_type": "code",
      "metadata": {
        "id": "DQKplUBRSzBG"
      },
      "source": [
        "model = Sequential()\n",
        "\n",
        "model.add(Flatten())\n",
        "model.add(BatchNormalization())\n",
        "model.add(Dropout(0.5))\n",
        "model.add(Dense(512,activation='elu'))\n",
        "\n",
        "\n",
        "model.add(BatchNormalization())\n",
        "model.add(Dropout(0.5))\n",
        "model.add(Dense(512,activation='elu'))\n",
        "\n",
        "model.add(BatchNormalization())\n",
        "model.add(Dense(1,activation='relu',kernel_initializer='he_uniform'))"
      ],
      "execution_count": null,
      "outputs": []
    },
    {
      "cell_type": "code",
      "metadata": {
        "id": "FBiqJIMd3oRU"
      },
      "source": [
        "sgd = tf.keras.optimizers.SGD(\n",
        "    learning_rate=1e-2, momentum=0.9, nesterov=True, name=\"SGD\")\n",
        "\n",
        "adam = tf.keras.optimizers.Adam(\n",
        "    learning_rate=1e-3,\n",
        "    amsgrad=True,)\n",
        "\n",
        "adamax = tf.keras.optimizers.Adamax(learning_rate=1e-3)\n",
        "\n",
        "ftrl = tf.keras.optimizers.Ftrl(\n",
        "    learning_rate=0.01,\n",
        "    learning_rate_power=-0.5,\n",
        "    initial_accumulator_value=0.1,\n",
        "    l1_regularization_strength=0.0,\n",
        "    l2_regularization_strength=0.0,\n",
        "    name=\"Ftrl\",\n",
        "    l2_shrinkage_regularization_strength=0.0,\n",
        ")\n",
        "\n",
        "adadelta = tf.keras.optimizers.Adadelta(\n",
        "    learning_rate=1e-3, rho=0.95, epsilon=1e-08, name=\"Adadelta\"\n",
        ")\n",
        "\n",
        "adagrad=tf.keras.optimizers.Adagrad(\n",
        "    learning_rate=0.001,\n",
        "    initial_accumulator_value=0,\n",
        "    epsilon=1e-07,\n",
        "    name=\"Adagrad\",\n",
        ")\n",
        "\n",
        "model.compile(optimizer=adam,loss='mse',metrics=['mae'])"
      ],
      "execution_count": null,
      "outputs": []
    },
    {
      "cell_type": "code",
      "metadata": {
        "id": "kgt8V6a_TgXP"
      },
      "source": [
        "model.fit(fx_train_sen,traindf['age'].values ,epochs=20, validation_data=(fx_val_sen,valdf['age'].values),batch_size=256)"
      ],
      "execution_count": null,
      "outputs": []
    },
    {
      "cell_type": "code",
      "metadata": {
        "id": "nZ9Bx6gsRLiT"
      },
      "source": [
        "model.evaluate(fx_test_sen,testdf['age'].values)"
      ],
      "execution_count": null,
      "outputs": []
    },
    {
      "cell_type": "code",
      "metadata": {
        "id": "IgmfSOajSkQ3"
      },
      "source": [
        "model.predict(fx_test_vgg).shape"
      ],
      "execution_count": null,
      "outputs": []
    },
    {
      "cell_type": "markdown",
      "metadata": {
        "id": "sH8ACGyRg-ox"
      },
      "source": [
        "Ensemble"
      ]
    },
    {
      "cell_type": "code",
      "metadata": {
        "id": "j-2O-OdfRmNS"
      },
      "source": [
        "from keras.models import load_model\n",
        "\n",
        "G_res = load_model('/content/drive/My Drive/Facial Demographics/Resnet.h5')\n",
        "G_res.compile(\"Adam\",\"binary_crossentropy\",['acc'])\n",
        "\n",
        "G_sen = load_model('/content/drive/My Drive/Facial Demographics/Senet.h5')\n",
        "G_sen.compile(\"Adam\",\"binary_crossentropy\",['acc'])\n",
        "\n",
        "G_vgg = load_model('/content/drive/My Drive/Facial Demographics/Vgg.h5')\n",
        "G_vgg.compile(\"Adam\",\"binary_crossentropy\",['acc'])"
      ],
      "execution_count": null,
      "outputs": []
    },
    {
      "cell_type": "code",
      "metadata": {
        "id": "OCygaZdnh5Yd"
      },
      "source": [
        "fx_test_res_e = np.load('/content/drive/My Drive/Facial Demographics/fx_test_res.npy')\n",
        "fx_test_sen_e = np.load('/content/drive/My Drive/Facial Demographics/fx_test_sen.npy')\n",
        "fx_test_vgg_e = np.load('/content/drive/My Drive/Facial Demographics/fx_test_vgg.npy')"
      ],
      "execution_count": null,
      "outputs": []
    },
    {
      "cell_type": "code",
      "metadata": {
        "id": "tnFixrE4MrTc"
      },
      "source": [
        "pred_res = A_res.predict(fx_test_res_e)\n",
        "pred_sen = A_sen.predict(fx_test_sen_e)\n",
        "pred_vgg = A_vgg.predict(fx_test_vgg_e)"
      ],
      "execution_count": null,
      "outputs": []
    },
    {
      "cell_type": "code",
      "metadata": {
        "id": "JtYxgkQLkHez"
      },
      "source": [
        "pred_res.shape, pred_sen.shape, pred_vgg.shape"
      ],
      "execution_count": null,
      "outputs": []
    },
    {
      "cell_type": "code",
      "metadata": {
        "id": "93WO1H3hkWDp"
      },
      "source": [
        "y_pred = (pred_res+pred_sen+pred_vgg)/3"
      ],
      "execution_count": null,
      "outputs": []
    },
    {
      "cell_type": "code",
      "metadata": {
        "id": "l4C7eUx6kg1r"
      },
      "source": [
        "from sklearn.metrics import classification_report\n",
        "report = classification_report(testdf['gender'].values,y_pred.round())\n",
        "print(report)"
      ],
      "execution_count": null,
      "outputs": []
    },
    {
      "cell_type": "code",
      "metadata": {
        "id": "kGxOADvNk5jP"
      },
      "source": [
        "from sklearn.metrics import roc_auc_score\n",
        "\n",
        "auc_vgg = roc_auc_score(testdf['gender'].values,pred_vgg.round())\n",
        "auc_res = roc_auc_score(testdf['gender'].values,pred_res.round())\n",
        "auc_sen = roc_auc_score(testdf['gender'].values,pred_sen.round())\n",
        "auc_en = roc_auc_score(testdf['gender'].values,y_pred.round())\n",
        "print('ROC_AUC_SCORE : \\n')\n",
        "print('ResNet50: ',auc_res)\n",
        "print('SeNet50: ',auc_sen)\n",
        "print('VGG16: ',auc_vgg)\n",
        "print('Ensemble: ',auc_en)"
      ],
      "execution_count": null,
      "outputs": []
    },
    {
      "cell_type": "code",
      "metadata": {
        "id": "LzLfnd7sl4Wt"
      },
      "source": [
        "from sklearn.metrics import accuracy_score \n",
        "\n",
        "acc_vgg = accuracy_score(testdf['gender'].values,pred_vgg.round())\n",
        "acc_res = accuracy_score(testdf['gender'].values,pred_res.round())\n",
        "acc_sen = accuracy_score(testdf['gender'].values,pred_sen.round())\n",
        "acc_en = accuracy_score(testdf['gender'].values,y_pred.round())\n",
        "print('ACCURACY_SCORE : \\n')\n",
        "print('ResNet50: ',acc_res)\n",
        "print('SeNet50: ',acc_sen)\n",
        "print('VGG16: ',acc_vgg)\n",
        "print('Ensemble: ',acc_en)"
      ],
      "execution_count": null,
      "outputs": []
    },
    {
      "cell_type": "markdown",
      "metadata": {
        "id": "jdlttvaO95Kx"
      },
      "source": [
        "Age"
      ]
    },
    {
      "cell_type": "code",
      "metadata": {
        "id": "uE7EdlqS_NPJ"
      },
      "source": [
        "testdf['age_pred_res'] = pred_res \n",
        "testdf['age_pred_sen'] = pred_sen \n",
        "testdf['age_pred_vgg'] = pred_vgg "
      ],
      "execution_count": null,
      "outputs": []
    },
    {
      "cell_type": "code",
      "metadata": {
        "id": "oyczzIEP_cmd",
        "colab": {
          "base_uri": "https://localhost:8080/",
          "height": 419
        },
        "outputId": "68553a69-04f5-4cf6-b984-dde8832b3bdf"
      },
      "source": [
        "testdf"
      ],
      "execution_count": null,
      "outputs": [
        {
          "output_type": "execute_result",
          "data": {
            "text/html": [
              "<div>\n",
              "<style scoped>\n",
              "    .dataframe tbody tr th:only-of-type {\n",
              "        vertical-align: middle;\n",
              "    }\n",
              "\n",
              "    .dataframe tbody tr th {\n",
              "        vertical-align: top;\n",
              "    }\n",
              "\n",
              "    .dataframe thead th {\n",
              "        text-align: right;\n",
              "    }\n",
              "</style>\n",
              "<table border=\"1\" class=\"dataframe\">\n",
              "  <thead>\n",
              "    <tr style=\"text-align: right;\">\n",
              "      <th></th>\n",
              "      <th>Unnamed: 0</th>\n",
              "      <th>age</th>\n",
              "      <th>gender</th>\n",
              "      <th>race</th>\n",
              "      <th>file</th>\n",
              "      <th>age_pred_res</th>\n",
              "      <th>age_pred_sen</th>\n",
              "      <th>age_pred_vgg</th>\n",
              "    </tr>\n",
              "  </thead>\n",
              "  <tbody>\n",
              "    <tr>\n",
              "      <th>0</th>\n",
              "      <td>6140</td>\n",
              "      <td>36</td>\n",
              "      <td>1</td>\n",
              "      <td>4</td>\n",
              "      <td>36_1_4_20170117203519312.jpg.chip.jpg</td>\n",
              "      <td>24.485363</td>\n",
              "      <td>27.753326</td>\n",
              "      <td>28.203520</td>\n",
              "    </tr>\n",
              "    <tr>\n",
              "      <th>1</th>\n",
              "      <td>9956</td>\n",
              "      <td>53</td>\n",
              "      <td>1</td>\n",
              "      <td>0</td>\n",
              "      <td>53_1_0_20170110123801468.jpg.chip.jpg</td>\n",
              "      <td>38.145927</td>\n",
              "      <td>37.904057</td>\n",
              "      <td>37.676086</td>\n",
              "    </tr>\n",
              "    <tr>\n",
              "      <th>2</th>\n",
              "      <td>1549</td>\n",
              "      <td>26</td>\n",
              "      <td>1</td>\n",
              "      <td>4</td>\n",
              "      <td>26_1_4_20170116220414012.jpg.chip.jpg</td>\n",
              "      <td>24.097799</td>\n",
              "      <td>24.639765</td>\n",
              "      <td>25.128021</td>\n",
              "    </tr>\n",
              "    <tr>\n",
              "      <th>3</th>\n",
              "      <td>14818</td>\n",
              "      <td>54</td>\n",
              "      <td>0</td>\n",
              "      <td>3</td>\n",
              "      <td>54_0_3_20170119210127256.jpg.chip.jpg</td>\n",
              "      <td>55.328480</td>\n",
              "      <td>46.717438</td>\n",
              "      <td>44.873314</td>\n",
              "    </tr>\n",
              "    <tr>\n",
              "      <th>4</th>\n",
              "      <td>18428</td>\n",
              "      <td>50</td>\n",
              "      <td>0</td>\n",
              "      <td>0</td>\n",
              "      <td>50_0_0_20170111171747253.jpg.chip.jpg</td>\n",
              "      <td>42.199821</td>\n",
              "      <td>41.806408</td>\n",
              "      <td>44.828255</td>\n",
              "    </tr>\n",
              "    <tr>\n",
              "      <th>...</th>\n",
              "      <td>...</td>\n",
              "      <td>...</td>\n",
              "      <td>...</td>\n",
              "      <td>...</td>\n",
              "      <td>...</td>\n",
              "      <td>...</td>\n",
              "      <td>...</td>\n",
              "      <td>...</td>\n",
              "    </tr>\n",
              "    <tr>\n",
              "      <th>2366</th>\n",
              "      <td>21575</td>\n",
              "      <td>58</td>\n",
              "      <td>0</td>\n",
              "      <td>0</td>\n",
              "      <td>58_0_0_20170117135834808.jpg.chip.jpg</td>\n",
              "      <td>50.158852</td>\n",
              "      <td>48.580410</td>\n",
              "      <td>45.263424</td>\n",
              "    </tr>\n",
              "    <tr>\n",
              "      <th>2367</th>\n",
              "      <td>5390</td>\n",
              "      <td>26</td>\n",
              "      <td>1</td>\n",
              "      <td>2</td>\n",
              "      <td>26_1_2_20170116184144892.jpg.chip.jpg</td>\n",
              "      <td>25.099579</td>\n",
              "      <td>28.005995</td>\n",
              "      <td>24.960840</td>\n",
              "    </tr>\n",
              "    <tr>\n",
              "      <th>2368</th>\n",
              "      <td>860</td>\n",
              "      <td>57</td>\n",
              "      <td>0</td>\n",
              "      <td>0</td>\n",
              "      <td>57_0_0_20170116214453175.jpg.chip.jpg</td>\n",
              "      <td>39.390530</td>\n",
              "      <td>50.115044</td>\n",
              "      <td>38.975800</td>\n",
              "    </tr>\n",
              "    <tr>\n",
              "      <th>2369</th>\n",
              "      <td>15795</td>\n",
              "      <td>55</td>\n",
              "      <td>0</td>\n",
              "      <td>0</td>\n",
              "      <td>55_0_0_20170117155725626.jpg.chip.jpg</td>\n",
              "      <td>54.393230</td>\n",
              "      <td>54.313946</td>\n",
              "      <td>52.882278</td>\n",
              "    </tr>\n",
              "    <tr>\n",
              "      <th>2370</th>\n",
              "      <td>23654</td>\n",
              "      <td>58</td>\n",
              "      <td>1</td>\n",
              "      <td>0</td>\n",
              "      <td>58_1_0_20170110132501568.jpg.chip.jpg</td>\n",
              "      <td>60.914627</td>\n",
              "      <td>53.633278</td>\n",
              "      <td>52.184303</td>\n",
              "    </tr>\n",
              "  </tbody>\n",
              "</table>\n",
              "<p>2371 rows × 8 columns</p>\n",
              "</div>"
            ],
            "text/plain": [
              "      Unnamed: 0  age  gender  ...  age_pred_res age_pred_sen  age_pred_vgg\n",
              "0           6140   36       1  ...     24.485363    27.753326     28.203520\n",
              "1           9956   53       1  ...     38.145927    37.904057     37.676086\n",
              "2           1549   26       1  ...     24.097799    24.639765     25.128021\n",
              "3          14818   54       0  ...     55.328480    46.717438     44.873314\n",
              "4          18428   50       0  ...     42.199821    41.806408     44.828255\n",
              "...          ...  ...     ...  ...           ...          ...           ...\n",
              "2366       21575   58       0  ...     50.158852    48.580410     45.263424\n",
              "2367        5390   26       1  ...     25.099579    28.005995     24.960840\n",
              "2368         860   57       0  ...     39.390530    50.115044     38.975800\n",
              "2369       15795   55       0  ...     54.393230    54.313946     52.882278\n",
              "2370       23654   58       1  ...     60.914627    53.633278     52.184303\n",
              "\n",
              "[2371 rows x 8 columns]"
            ]
          },
          "metadata": {
            "tags": []
          },
          "execution_count": 23
        }
      ]
    },
    {
      "cell_type": "code",
      "metadata": {
        "id": "Zk817cMXlIze"
      },
      "source": [
        "\n",
        "plt.plot(sample['age'],sample['age_pred_res'], alpha=0.5)\n",
        "plt.plot(sample['age'],sample['age_pred_sen'], alpha=0.5)\n",
        "plt.plot(sample['age'],sample['age_pred_vgg'], alpha=0.5)\n",
        "plt.plot(sample['age'],sample['age'])\n",
        "plt.show()"
      ],
      "execution_count": null,
      "outputs": []
    }
  ]
}