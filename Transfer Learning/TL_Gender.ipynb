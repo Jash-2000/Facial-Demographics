{
  "nbformat": 4,
  "nbformat_minor": 0,
  "metadata": {
    "colab": {
      "name": "TL_Gender.ipynb",
      "provenance": [],
      "collapsed_sections": []
    },
    "kernelspec": {
      "name": "python3",
      "display_name": "Python 3"
    },
    "accelerator": "GPU"
  },
  "cells": [
    {
      "cell_type": "code",
      "metadata": {
        "id": "EcRD_xVhR54r"
      },
      "source": [
        "import numpy as np\n",
        "import matplotlib.pyplot as plt\n",
        "import pandas as pd\n",
        "import os\n",
        "import tensorflow as tf\n",
        "from keras.models import Sequential\n",
        "from keras.layers.core import Dense, Dropout, Flatten, Activation\n",
        "from keras.layers import Conv2D, MaxPooling2D,AlphaDropout,SeparableConv2D, SpatialDropout2D, MaxPooling2D\n",
        "from keras.datasets import cifar10\n",
        "from keras.utils import np_utils\n",
        "from keras.layers.normalization import BatchNormalization\n",
        "from keras.callbacks import EarlyStopping\n",
        "%matplotlib inline"
      ],
      "execution_count": null,
      "outputs": []
    },
    {
      "cell_type": "code",
      "metadata": {
        "id": "p5Bou53wENiS",
        "colab": {
          "base_uri": "https://localhost:8080/",
          "height": 34
        },
        "outputId": "304ae0b2-d822-435a-e7b0-505cc543826d"
      },
      "source": [
        "!pip install git+https://github.com/rcmalli/keras-vggface.git -q"
      ],
      "execution_count": null,
      "outputs": [
        {
          "output_type": "stream",
          "text": [
            "  Building wheel for keras-vggface (setup.py) ... \u001b[?25l\u001b[?25hdone\n"
          ],
          "name": "stdout"
        }
      ]
    },
    {
      "cell_type": "code",
      "metadata": {
        "id": "5XCxAUt8Ez_-",
        "colab": {
          "base_uri": "https://localhost:8080/",
          "height": 51
        },
        "outputId": "07338633-379c-48fb-a3f9-8736d505d14b"
      },
      "source": [
        "from keras_vggface.vggface import VGGFace\n",
        "vgg = VGGFace(model='vgg16',include_top=False, input_shape=(200, 200, 3))"
      ],
      "execution_count": null,
      "outputs": [
        {
          "output_type": "stream",
          "text": [
            "Downloading data from https://github.com/rcmalli/keras-vggface/releases/download/v2.0/rcmalli_vggface_tf_notop_senet50.h5\n",
            "104947712/104944616 [==============================] - 4s 0us/step\n"
          ],
          "name": "stdout"
        }
      ]
    },
    {
      "cell_type": "code",
      "metadata": {
        "id": "ANyArKGZE3zT"
      },
      "source": [
        "fx_train_sen = vgg.predict(x_train)\n",
        "fx_val_sen = vgg.predict(x_val)\n",
        "fx_test_sen = vgg.predict(x_test)"
      ],
      "execution_count": null,
      "outputs": []
    },
    {
      "cell_type": "code",
      "metadata": {
        "id": "zldDlxBYRfyJ"
      },
      "source": [
        "#Loading Labels\n",
        "traindf = pd.read_excel('/content/drive/My Drive/Facial Demographics/traindf.xlsx')\n",
        "valdf = pd.read_excel('/content/drive/My Drive/Paper/Facial Demographics/valdf.xlsx')\n",
        "testdf = pd.read_excel('/content/drive/My Drive/Paper/Facial Demographics/testdf.xlsx')\n",
        "traindf.head()"
      ],
      "execution_count": null,
      "outputs": []
    },
    {
      "cell_type": "code",
      "metadata": {
        "id": "5y5NX5jnTRNu"
      },
      "source": [
        "traindf['gender'].value_counts()"
      ],
      "execution_count": null,
      "outputs": []
    },
    {
      "cell_type": "markdown",
      "metadata": {
        "id": "p6Z_N296S2wB"
      },
      "source": [
        "Gender Classification Model"
      ]
    },
    {
      "cell_type": "code",
      "metadata": {
        "id": "fvAJCVmO-_gC",
        "colab": {
          "base_uri": "https://localhost:8080/",
          "height": 34
        },
        "outputId": "08e048c9-e05f-400f-e803-a22fc5588f93"
      },
      "source": [
        "from sklearn.utils import class_weight\n",
        "\n",
        "class_weights = class_weight.compute_class_weight('balanced',np.unique(traindf['gender'].values),traindf['gender'].values)\n",
        "class_weights"
      ],
      "execution_count": null,
      "outputs": [
        {
          "output_type": "execute_result",
          "data": {
            "text/plain": [
              "array([0.95762626, 1.04629732])"
            ]
          },
          "metadata": {
            "tags": []
          },
          "execution_count": 11
        }
      ]
    },
    {
      "cell_type": "code",
      "metadata": {
        "id": "DQKplUBRSzBG"
      },
      "source": [
        "model = Sequential()\n",
        "\n",
        "model.add(BatchNormalization())\n",
        "model.add(SpatialDropout2D(0.5))\n",
        "model.add(SeparableConv2D(512,(3,3),padding='same'))\n",
        "model.add(MaxPooling2D((2,2)))\n",
        "\n",
        "model.add(BatchNormalization())\n",
        "model.add(SpatialDropout2D(0.5))\n",
        "model.add(SeparableConv2D(512,(3,3),padding='same'))\n",
        "model.add(MaxPooling2D((2,2)))\n",
        "\n",
        "model.add(Flatten())\n",
        "model.add(BatchNormalization())\n",
        "model.add(AlphaDropout(0.5))\n",
        "model.add(Dense(128,activation='relu',kernel_initializer='he_uniform'))\n",
        "\n",
        "model.add(BatchNormalization())\n",
        "model.add(Dense(1,activation='sigmoid'))"
      ],
      "execution_count": null,
      "outputs": []
    },
    {
      "cell_type": "code",
      "metadata": {
        "id": "FBiqJIMd3oRU"
      },
      "source": [
        "sgd = tf.keras.optimizers.SGD(\n",
        "    learning_rate=1e-4, momentum=0, nesterov=False, name=\"SGD\")\n",
        "\n",
        "adam = tf.keras.optimizers.Adam(\n",
        "    learning_rate=1e-3,\n",
        "    amsgrad=True,)\n",
        "\n",
        "adamax = tf.keras.optimizers.Adamax(learning_rate=1e-4)\n",
        "\n",
        "model.compile(optimizer=adam,loss='binary_crossentropy',metrics=['accuracy'])"
      ],
      "execution_count": null,
      "outputs": []
    },
    {
      "cell_type": "code",
      "metadata": {
        "id": "noNCHAWuaGdB"
      },
      "source": [
        "!pip install keras-adabound -q"
      ],
      "execution_count": null,
      "outputs": []
    },
    {
      "cell_type": "code",
      "metadata": {
        "id": "kgt8V6a_TgXP"
      },
      "source": [
        "model.fit(fx_train_vgg,traindf['gender'].values,epochs=10, validation_data=(fx_val_vgg,valdf['gender'].values),class_weight=class_weights,batch_size=64)"
      ],
      "execution_count": null,
      "outputs": []
    },
    {
      "cell_type": "code",
      "metadata": {
        "id": "nZ9Bx6gsRLiT"
      },
      "source": [
        "model.evaluate(fx_test_vgg,testdf['gender'].values)"
      ],
      "execution_count": null,
      "outputs": []
    },
    {
      "cell_type": "code",
      "metadata": {
        "id": "IgmfSOajSkQ3"
      },
      "source": [
        "model.predict(fx_test_vgg).shape"
      ],
      "execution_count": null,
      "outputs": []
    },
    {
      "cell_type": "markdown",
      "metadata": {
        "id": "I20Nhl6VMYjm"
      },
      "source": [
        "DO the same loop for all the 4 networks and ensamble in the next cell"
      ]
    },
    {
      "cell_type": "markdown",
      "metadata": {
        "id": "sH8ACGyRg-ox"
      },
      "source": [
        "Ensemble"
      ]
    },
    {
      "cell_type": "code",
      "metadata": {
        "id": "j-2O-OdfRmNS"
      },
      "source": [
        "from keras.models import load_model\n",
        "\n",
        "G_res = load_model('/content/drive/My Drive/Facial Demographics/resnet.h5')\n",
        "G_res.compile(\"Adam\",\"binary_crossentropy\",['acc'])\n",
        "\n",
        "G_sen = load_model('/content/drive/My Drive/Facial Demographics/senet.h5')\n",
        "G_sen.compile(\"Adam\",\"binary_crossentropy\",['acc'])\n",
        "\n",
        "G_vgg = load_model('/content/drive/My Drive/Facial Demographics/vgg.h5')\n",
        "G_vgg.compile(\"Adam\",\"binary_crossentropy\",['acc'])"
      ],
      "execution_count": null,
      "outputs": []
    },
    {
      "cell_type": "code",
      "metadata": {
        "id": "OCygaZdnh5Yd"
      },
      "source": [
        "fx_test_res_e = np.load('/content/drive/My Drive/Paper/UTKFace/fx_test_res.npy')\n",
        "fx_test_sen_e = np.load('/content/drive/My Drive/Paper/UTKFace/fx_test_sen.npy')\n",
        "fx_test_vgg_e = np.load('/content/drive/My Drive/Paper/UTKFace/fx_test_vgg.npy')"
      ],
      "execution_count": null,
      "outputs": []
    },
    {
      "cell_type": "code",
      "metadata": {
        "id": "tnFixrE4MrTc"
      },
      "source": [
        "pred_res = G_res.predict(fx_test_res_e)\n",
        "pred_sen = G_sen.predict(fx_test_sen_e)\n",
        "pred_vgg = G_vgg.predict(fx_test_vgg_e)"
      ],
      "execution_count": null,
      "outputs": []
    },
    {
      "cell_type": "code",
      "metadata": {
        "id": "JtYxgkQLkHez"
      },
      "source": [
        "pred_res.shape, pred_sen.shape, pred_vgg.shape"
      ],
      "execution_count": null,
      "outputs": []
    },
    {
      "cell_type": "code",
      "metadata": {
        "id": "93WO1H3hkWDp"
      },
      "source": [
        "y_pred = (pred_res+pred_sen+pred_vgg)/3"
      ],
      "execution_count": null,
      "outputs": []
    },
    {
      "cell_type": "code",
      "metadata": {
        "id": "l4C7eUx6kg1r"
      },
      "source": [
        "from sklearn.metrics import classification_report\n",
        "report = classification_report(testdf['gender'].values,y_pred.round())\n",
        "print(report)"
      ],
      "execution_count": null,
      "outputs": []
    },
    {
      "cell_type": "code",
      "metadata": {
        "id": "kGxOADvNk5jP"
      },
      "source": [
        "from sklearn.metrics import roc_auc_score\n",
        "\n",
        "auc_vgg = roc_auc_score(testdf['gender'].values,pred_vgg.round())\n",
        "auc_res = roc_auc_score(testdf['gender'].values,pred_res.round())\n",
        "auc_sen = roc_auc_score(testdf['gender'].values,pred_sen.round())\n",
        "auc_en = roc_auc_score(testdf['gender'].values,y_pred.round())\n",
        "print('ROC_AUC_SCORE : \\n')\n",
        "print('ResNet50: ',auc_res)\n",
        "print('SeNet50: ',auc_sen)\n",
        "print('VGG16: ',auc_vgg)\n",
        "print('Ensemble: ',auc_en)"
      ],
      "execution_count": null,
      "outputs": []
    },
    {
      "cell_type": "code",
      "metadata": {
        "id": "LzLfnd7sl4Wt"
      },
      "source": [
        "from sklearn.metrics import accuracy_score \n",
        "\n",
        "acc_vgg = accuracy_score(testdf['gender'].values,pred_vgg.round())\n",
        "acc_res = accuracy_score(testdf['gender'].values,pred_res.round())\n",
        "acc_sen = accuracy_score(testdf['gender'].values,pred_sen.round())\n",
        "acc_en = accuracy_score(testdf['gender'].values,y_pred.round())\n",
        "print('ACCURACY_SCORE : \\n')\n",
        "print('ResNet50: ',acc_res)\n",
        "print('SeNet50: ',acc_sen)\n",
        "print('VGG16: ',acc_vgg)\n",
        "print('Ensemble: ',acc_en)"
      ],
      "execution_count": null,
      "outputs": []
    }
  ]
}