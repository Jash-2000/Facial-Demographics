{
  "nbformat": 4,
  "nbformat_minor": 0,
  "metadata": {
    "colab": {
      "name": "UTK_Data_Analysis.ipynb",
      "provenance": [],
      "collapsed_sections": []
    },
    "kernelspec": {
      "name": "python3",
      "display_name": "Python 3"
    }
  },
  "cells": [
    {
      "cell_type": "code",
      "metadata": {
        "id": "atoWq4iS1aXZ"
      },
      "source": [
        "from google.colab import drive\n",
        "drive.mount('/Jash')"
      ],
      "execution_count": null,
      "outputs": []
    },
    {
      "cell_type": "code",
      "metadata": {
        "id": "g8n273iCB_MG"
      },
      "source": [
        "# Essential libraries\n",
        "import numpy as np \n",
        "import pandas as pd\n",
        "import os\n",
        "import glob\n",
        "import pandas as pd\n",
        "import matplotlib.pyplot as plt\n",
        "import seaborn as sns\n",
        "import scipy.io\n",
        "import pandas as pd\n",
        "import numpy as np\n",
        "import matplotlib.pyplot as plt"
      ],
      "execution_count": null,
      "outputs": []
    },
    {
      "cell_type": "code",
      "metadata": {
        "id": "RZbxDjTNCFGo"
      },
      "source": [
        "dataset_folder_name = '/Jash/My Drive/Facial Demographics/Dataset'\n",
        "TRAIN_TEST_SPLIT = 0.8\n",
        "IM_WIDTH = IM_HEIGHT = 198\n",
        "\n",
        "dataset_dict = {\n",
        "    'race_id': {\n",
        "        0: 'white', \n",
        "        1: 'black', \n",
        "        2: 'asian', \n",
        "        3: 'indian', \n",
        "        4: 'others'\n",
        "    },\n",
        "    'gender_id': {\n",
        "        0: 'male',\n",
        "        1: 'female'\n",
        "    }\n",
        "}\n",
        "\n",
        "dataset_dict['gender_alias'] = dict((g, i) for i, g in dataset_dict['gender_id'].items())    # (Gender: id)\n",
        "dataset_dict['race_alias'] = dict((r, i) for i, r in dataset_dict['race_id'].items())        # (Race: id)"
      ],
      "execution_count": null,
      "outputs": []
    },
    {
      "cell_type": "code",
      "metadata": {
        "id": "kXkn8umRCPuM"
      },
      "source": [
        "def parse_dataset(dataset_path, ext='jpg'):\n",
        "    \"\"\"\n",
        "    Used to extract information about our dataset. It does iterate over all images and return a DataFrame\n",
        "     with the data (age, gender and sex) of all files.\n",
        "    \"\"\"\n",
        "    def parse_info_from_file(path):\n",
        "        \"\"\"\n",
        "        Parse information from a single file\n",
        "        \"\"\"\n",
        "        try:\n",
        "            filename = os.path.split(path)[1]\n",
        "            filename = os.path.splitext(filename)[0]\n",
        "            age, gender, race, _ = filename.split('_')\n",
        "\n",
        "            return int(age), dataset_dict['gender_id'][int(gender)], dataset_dict['race_id'][int(race)]\n",
        "        except Exception as ex:\n",
        "            return None, None, None\n",
        "        \n",
        "    files = glob.glob(os.path.join(dataset_path, \"*.%s\" % ext))\n",
        "    \n",
        "    records = []\n",
        "    for file in files:\n",
        "        info = parse_info_from_file(file)\n",
        "        records.append(info)\n",
        "        \n",
        "    df = pd.DataFrame(records)\n",
        "    df['file'] = files\n",
        "    df.columns = ['age', 'gender', 'race', 'file']\n",
        "    \n",
        "   \n",
        "    df = df.dropna()\n",
        "    \n",
        "    return df"
      ],
      "execution_count": null,
      "outputs": []
    },
    {
      "cell_type": "code",
      "metadata": {
        "id": "ybscrdgBCWxr",
        "colab": {
          "base_uri": "https://localhost:8080/",
          "height": 195
        },
        "outputId": "ab0ebf11-cf82-4949-a8e9-e7b3ec1120cc"
      },
      "source": [
        "df = parse_dataset(dataset_folder_name)\n",
        "df.head()"
      ],
      "execution_count": null,
      "outputs": [
        {
          "output_type": "execute_result",
          "data": {
            "text/html": [
              "<div>\n",
              "<style scoped>\n",
              "    .dataframe tbody tr th:only-of-type {\n",
              "        vertical-align: middle;\n",
              "    }\n",
              "\n",
              "    .dataframe tbody tr th {\n",
              "        vertical-align: top;\n",
              "    }\n",
              "\n",
              "    .dataframe thead th {\n",
              "        text-align: right;\n",
              "    }\n",
              "</style>\n",
              "<table border=\"1\" class=\"dataframe\">\n",
              "  <thead>\n",
              "    <tr style=\"text-align: right;\">\n",
              "      <th></th>\n",
              "      <th>age</th>\n",
              "      <th>gender</th>\n",
              "      <th>race</th>\n",
              "      <th>file</th>\n",
              "    </tr>\n",
              "  </thead>\n",
              "  <tbody>\n",
              "    <tr>\n",
              "      <th>0</th>\n",
              "      <td>17.0</td>\n",
              "      <td>male</td>\n",
              "      <td>others</td>\n",
              "      <td>/content/drive/My Drive/Images/17_0_4_20170103...</td>\n",
              "    </tr>\n",
              "    <tr>\n",
              "      <th>1</th>\n",
              "      <td>17.0</td>\n",
              "      <td>female</td>\n",
              "      <td>white</td>\n",
              "      <td>/content/drive/My Drive/Images/17_1_0_20170102...</td>\n",
              "    </tr>\n",
              "    <tr>\n",
              "      <th>2</th>\n",
              "      <td>17.0</td>\n",
              "      <td>male</td>\n",
              "      <td>others</td>\n",
              "      <td>/content/drive/My Drive/Images/17_0_4_20170102...</td>\n",
              "    </tr>\n",
              "    <tr>\n",
              "      <th>3</th>\n",
              "      <td>17.0</td>\n",
              "      <td>female</td>\n",
              "      <td>white</td>\n",
              "      <td>/content/drive/My Drive/Images/17_1_0_20170103...</td>\n",
              "    </tr>\n",
              "    <tr>\n",
              "      <th>4</th>\n",
              "      <td>17.0</td>\n",
              "      <td>male</td>\n",
              "      <td>others</td>\n",
              "      <td>/content/drive/My Drive/Images/17_0_4_20170103...</td>\n",
              "    </tr>\n",
              "  </tbody>\n",
              "</table>\n",
              "</div>"
            ],
            "text/plain": [
              "    age  gender    race                                               file\n",
              "0  17.0    male  others  /content/drive/My Drive/Images/17_0_4_20170103...\n",
              "1  17.0  female   white  /content/drive/My Drive/Images/17_1_0_20170102...\n",
              "2  17.0    male  others  /content/drive/My Drive/Images/17_0_4_20170102...\n",
              "3  17.0  female   white  /content/drive/My Drive/Images/17_1_0_20170103...\n",
              "4  17.0    male  others  /content/drive/My Drive/Images/17_0_4_20170103..."
            ]
          },
          "metadata": {
            "tags": []
          },
          "execution_count": 19
        }
      ]
    },
    {
      "cell_type": "code",
      "metadata": {
        "id": "Z1wm7NyCmcbc",
        "colab": {
          "base_uri": "https://localhost:8080/",
          "height": 202
        },
        "outputId": "c4780d01-a52f-4d35-dd03-b4f87a041aa8"
      },
      "source": [
        "df.info()       # No NAN values. Clean dataset"
      ],
      "execution_count": null,
      "outputs": [
        {
          "output_type": "stream",
          "text": [
            "<class 'pandas.core.frame.DataFrame'>\n",
            "Int64Index: 23708 entries, 0 to 23710\n",
            "Data columns (total 4 columns):\n",
            " #   Column  Non-Null Count  Dtype  \n",
            "---  ------  --------------  -----  \n",
            " 0   age     23708 non-null  float64\n",
            " 1   gender  23708 non-null  object \n",
            " 2   race    23708 non-null  object \n",
            " 3   file    23708 non-null  object \n",
            "dtypes: float64(1), object(3)\n",
            "memory usage: 926.1+ KB\n"
          ],
          "name": "stdout"
        }
      ]
    },
    {
      "cell_type": "code",
      "metadata": {
        "id": "tlQO4_WKmihH",
        "colab": {
          "base_uri": "https://localhost:8080/",
          "height": 284
        },
        "outputId": "d68ffc49-ac5a-4829-efc2-a3367d9b69a5"
      },
      "source": [
        "df.describe()\n",
        "# Lower percentile - 25, median - 50, upper percentile - 75 (for numerical data)"
      ],
      "execution_count": null,
      "outputs": [
        {
          "output_type": "execute_result",
          "data": {
            "text/html": [
              "<div>\n",
              "<style scoped>\n",
              "    .dataframe tbody tr th:only-of-type {\n",
              "        vertical-align: middle;\n",
              "    }\n",
              "\n",
              "    .dataframe tbody tr th {\n",
              "        vertical-align: top;\n",
              "    }\n",
              "\n",
              "    .dataframe thead th {\n",
              "        text-align: right;\n",
              "    }\n",
              "</style>\n",
              "<table border=\"1\" class=\"dataframe\">\n",
              "  <thead>\n",
              "    <tr style=\"text-align: right;\">\n",
              "      <th></th>\n",
              "      <th>age</th>\n",
              "    </tr>\n",
              "  </thead>\n",
              "  <tbody>\n",
              "    <tr>\n",
              "      <th>count</th>\n",
              "      <td>23708.000000</td>\n",
              "    </tr>\n",
              "    <tr>\n",
              "      <th>mean</th>\n",
              "      <td>33.300363</td>\n",
              "    </tr>\n",
              "    <tr>\n",
              "      <th>std</th>\n",
              "      <td>19.884509</td>\n",
              "    </tr>\n",
              "    <tr>\n",
              "      <th>min</th>\n",
              "      <td>1.000000</td>\n",
              "    </tr>\n",
              "    <tr>\n",
              "      <th>25%</th>\n",
              "      <td>23.000000</td>\n",
              "    </tr>\n",
              "    <tr>\n",
              "      <th>50%</th>\n",
              "      <td>29.000000</td>\n",
              "    </tr>\n",
              "    <tr>\n",
              "      <th>75%</th>\n",
              "      <td>45.000000</td>\n",
              "    </tr>\n",
              "    <tr>\n",
              "      <th>max</th>\n",
              "      <td>116.000000</td>\n",
              "    </tr>\n",
              "  </tbody>\n",
              "</table>\n",
              "</div>"
            ],
            "text/plain": [
              "                age\n",
              "count  23708.000000\n",
              "mean      33.300363\n",
              "std       19.884509\n",
              "min        1.000000\n",
              "25%       23.000000\n",
              "50%       29.000000\n",
              "75%       45.000000\n",
              "max      116.000000"
            ]
          },
          "metadata": {
            "tags": []
          },
          "execution_count": 21
        }
      ]
    },
    {
      "cell_type": "code",
      "metadata": {
        "id": "K-d6Te5jCZAP",
        "colab": {
          "base_uri": "https://localhost:8080/",
          "height": 265
        },
        "outputId": "eb0fe8e4-ceb5-4d70-821d-c80c310a7596"
      },
      "source": [
        "ages = df['age']\n",
        "nbins = 10\n",
        "plt.hist(ages,nbins,color='green',histtype='bar')\n",
        "plt.show()\n",
        "# Majority population lies between 20-30 age group. Clearly, \n",
        "# the dataset is not very well balanced. So training will \n",
        "# not be easy & accurate. We don't want to be\n",
        "# biased. Try using class weights"
      ],
      "execution_count": null,
      "outputs": [
        {
          "output_type": "display_data",
          "data": {
            "image/png": "[encoded data removed]",
            "text/plain": [
              "<Figure size 432x288 with 1 Axes>"
            ]
          },
          "metadata": {
            "tags": [],
            "needs_background": "light"
          }
        }
      ]
    },
    {
      "cell_type": "code",
      "metadata": {
        "id": "_zqXUmzvCoY8",
        "colab": {
          "base_uri": "https://localhost:8080/",
          "height": 270
        },
        "outputId": "a688dc35-291e-4206-bc90-80ede3655498"
      },
      "source": [
        "x = (df.gender=='male').sum()\n",
        "y = (df.gender=='female').sum()\n",
        "gender = [x,y]\n",
        "labels = ['male','female']\n",
        "colors = [ 'y', 'g'] \n",
        "plt.pie(gender,labels = labels,colors = colors,radius=1.2,autopct='%.1f%%')\n",
        "plt.show()"
      ],
      "execution_count": null,
      "outputs": [
        {
          "output_type": "display_data",
          "data": {
            "image/png": "[encoded data removed]",
            "text/plain": [
              "<Figure size 432x288 with 1 Axes>"
            ]
          },
          "metadata": {
            "tags": []
          }
        }
      ]
    },
    {
      "cell_type": "code",
      "metadata": {
        "id": "WPmYRcKWm2oA",
        "colab": {
          "base_uri": "https://localhost:8080/",
          "height": 279
        },
        "outputId": "fd0e569e-fd96-4b5d-8d81-a78d7b608730"
      },
      "source": [
        "sns.countplot(x='gender', data=df);\n",
        "\n",
        "# Males ~ Just over 12k\n",
        "# Females ~ Just over 11k"
      ],
      "execution_count": null,
      "outputs": [
        {
          "output_type": "display_data",
          "data": {
            "image/png": "[encoded data removed]",
            "text/plain": [
              "<Figure size 432x288 with 1 Axes>"
            ]
          },
          "metadata": {
            "tags": [],
            "needs_background": "light"
          }
        }
      ]
    },
    {
      "cell_type": "code",
      "metadata": {
        "id": "F7VpVyjzf60k",
        "colab": {
          "base_uri": "https://localhost:8080/",
          "height": 259
        },
        "outputId": "64cd9e24-e222-489b-94ee-fd6c2f6c2b85"
      },
      "source": [
        "x = (df.race=='white').sum()\n",
        "y = (df.race=='black').sum()\n",
        "z = (df.race=='asian').sum()\n",
        "a = (df.race=='indian').sum()\n",
        "b = (df.race=='others').sum()\n",
        "\n",
        "gender = [x,y,z,a,b]\n",
        "labels = ['white','black','asian','indian','others']\n",
        "colors = [ 'y', 'g','b','r','m'] \n",
        "plt.pie(gender,labels = labels,colors = colors,radius=1.2,autopct='%.1f%%')\n",
        "plt.show()"
      ],
      "execution_count": null,
      "outputs": [
        {
          "output_type": "display_data",
          "data": {
            "image/png": "[encoded data removed]",
            "text/plain": [
              "<Figure size 432x288 with 1 Axes>"
            ]
          },
          "metadata": {
            "tags": []
          }
        }
      ]
    },
    {
      "cell_type": "code",
      "metadata": {
        "id": "ktdLw0fCm-gO",
        "colab": {
          "base_uri": "https://localhost:8080/",
          "height": 225
        },
        "outputId": "f27e4d1c-1927-4f4e-ce8f-7938b1f343fd"
      },
      "source": [
        "df.groupby(['race']).mean()               # Mean age by race"
      ],
      "execution_count": null,
      "outputs": [
        {
          "output_type": "execute_result",
          "data": {
            "text/html": [
              "<div>\n",
              "<style scoped>\n",
              "    .dataframe tbody tr th:only-of-type {\n",
              "        vertical-align: middle;\n",
              "    }\n",
              "\n",
              "    .dataframe tbody tr th {\n",
              "        vertical-align: top;\n",
              "    }\n",
              "\n",
              "    .dataframe thead th {\n",
              "        text-align: right;\n",
              "    }\n",
              "</style>\n",
              "<table border=\"1\" class=\"dataframe\">\n",
              "  <thead>\n",
              "    <tr style=\"text-align: right;\">\n",
              "      <th></th>\n",
              "      <th>age</th>\n",
              "    </tr>\n",
              "    <tr>\n",
              "      <th>race</th>\n",
              "      <th></th>\n",
              "    </tr>\n",
              "  </thead>\n",
              "  <tbody>\n",
              "    <tr>\n",
              "      <th>asian</th>\n",
              "      <td>25.867501</td>\n",
              "    </tr>\n",
              "    <tr>\n",
              "      <th>black</th>\n",
              "      <td>33.860362</td>\n",
              "    </tr>\n",
              "    <tr>\n",
              "      <th>indian</th>\n",
              "      <td>31.532830</td>\n",
              "    </tr>\n",
              "    <tr>\n",
              "      <th>others</th>\n",
              "      <td>23.169031</td>\n",
              "    </tr>\n",
              "    <tr>\n",
              "      <th>white</th>\n",
              "      <td>37.978276</td>\n",
              "    </tr>\n",
              "  </tbody>\n",
              "</table>\n",
              "</div>"
            ],
            "text/plain": [
              "              age\n",
              "race             \n",
              "asian   25.867501\n",
              "black   33.860362\n",
              "indian  31.532830\n",
              "others  23.169031\n",
              "white   37.978276"
            ]
          },
          "metadata": {
            "tags": []
          },
          "execution_count": 27
        }
      ]
    },
    {
      "cell_type": "code",
      "metadata": {
        "id": "wwTJEdNhnC4v",
        "colab": {
          "base_uri": "https://localhost:8080/",
          "height": 286
        },
        "outputId": "733b6f5d-5444-43e4-8750-b20b1e0dcade"
      },
      "source": [
        "sns.set(style =\"whitegrid\") \n",
        "_ = sns.stripplot(x='race',y='age',data=df)\n"
      ],
      "execution_count": null,
      "outputs": [
        {
          "output_type": "display_data",
          "data": {
            "image/png": "[encoded data removed]",
            "text/plain": [
              "<Figure size 432x288 with 1 Axes>"
            ]
          },
          "metadata": {
            "tags": []
          }
        }
      ]
    },
    {
      "cell_type": "code",
      "metadata": {
        "id": "L21qaRLfnEIs",
        "colab": {
          "base_uri": "https://localhost:8080/",
          "height": 418
        },
        "outputId": "59bf4f07-1879-49fc-d0d5-2036a79940ca"
      },
      "source": [
        "sns.factorplot('race', 'age', 'gender', data=df,kind='bar');\n",
        "\n",
        "# Gives the mean age of both genders of all races"
      ],
      "execution_count": null,
      "outputs": [
        {
          "output_type": "stream",
          "text": [
            "/usr/local/lib/python3.6/dist-packages/seaborn/categorical.py:3666: UserWarning: The `factorplot` function has been renamed to `catplot`. The original name will be removed in a future release. Please update your code. Note that the default `kind` in `factorplot` (`'point'`) has changed `'strip'` in `catplot`.\n",
            "  warnings.warn(msg)\n"
          ],
          "name": "stderr"
        },
        {
          "output_type": "display_data",
          "data": {
            "image/png": "[encoded data removed]",
            "text/plain": [
              "<Figure size 437.975x360 with 1 Axes>"
            ]
          },
          "metadata": {
            "tags": []
          }
        }
      ]
    },
    {
      "cell_type": "code",
      "metadata": {
        "id": "mMwhlvZCEvfh",
        "colab": {
          "base_uri": "https://localhost:8080/",
          "height": 394
        },
        "outputId": "c58392d1-eae1-4ef8-e42a-a33bc535401d"
      },
      "source": [
        "fig, (ax1, ax2) = plt.subplots(1, 2, figsize=(15, 6))\n",
        "_ = sns.boxplot(data=df, x='gender', y='age', ax=ax1)\n",
        "_ = sns.boxplot(data=df, x='race', y='age', ax=ax2)\n",
        "\n",
        "# We see that most of males are between 25 and 55, whereas most of the females are between 20 and 35\n",
        "# Even while grouping by race, we find good amount of variations in different races"
      ],
      "execution_count": null,
      "outputs": [
        {
          "output_type": "display_data",
          "data": {
            "image/png": "[encoded data removed]",
            "text/plain": [
              "<Figure size 1080x432 with 2 Axes>"
            ]
          },
          "metadata": {
            "tags": []
          }
        }
      ]
    }
  ]
}